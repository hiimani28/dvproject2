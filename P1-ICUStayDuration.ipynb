{
 "cells": [
  {
   "cell_type": "code",
   "execution_count": 5,
   "id": "233104ab-8461-40d9-a429-f1afaae5ef7c",
   "metadata": {},
   "outputs": [
    {
     "data": {
      "text/html": [
       "\n",
       "<style>\n",
       "body {\n",
       "    background: linear-gradient(to right, #ff7e5f, #feb47b);\n",
       "}\n",
       "</style>\n",
       "# "
      ],
      "text/plain": [
       "<IPython.core.display.HTML object>"
      ]
     },
     "metadata": {},
     "output_type": "display_data"
    }
   ],
   "source": [
    "# from IPython.display import display, HTML\n",
    "\n",
    "# css_style = \"\"\"\n",
    "# <style>\n",
    "# body {\n",
    "#     background: linear-gradient(to right, #ff7e5f, #feb47b);\n",
    "# }\n",
    "# </style>\n",
    "# # \"\"\"\n",
    "\n",
    "# display(HTML(css_style))\n"
   ]
  },
  {
   "cell_type": "code",
   "execution_count": 6,
   "id": "4c06defe-6ee5-42e5-85e6-669573f8ec3c",
   "metadata": {},
   "outputs": [],
   "source": [
    "import pandas as pd\n",
    "import warnings\n",
    "warnings.filterwarnings('ignore')\n",
    "import matplotlib.pyplot as plt\n",
    "import seaborn as sns\n",
    "from ipywidgets import interact, widgets, HBox, VBox\n",
    "\n",
    "import pandas as pd\n",
    "import matplotlib.pyplot as plt\n",
    "import seaborn as sns\n",
    "\n",
    "import ipywidgets as widgets\n",
    "from ipywidgets import interact\n",
    "\n",
    "df = pd.read_csv('stroke.csv')\n",
    "def categorize_age(age):\n",
    "    if age <= 45:\n",
    "        return '0-45'\n",
    "    elif 45 < age <= 60:\n",
    "        return '45-60'\n",
    "    elif 60 < age <=70:\n",
    "        return '60-70'\n",
    "    elif 70 < age <= 80:\n",
    "        return '70-80'\n",
    "    else:\n",
    "        return '80+'\n",
    "\n",
    "# Apply the function to create a new column 'Age Group'\n",
    "df['Age Group'] = df['Age'].apply(categorize_age)"
   ]
  },
  {
   "cell_type": "code",
   "execution_count": 7,
   "id": "1b020a58-791a-4b0b-8afc-3ec1d712c8b3",
   "metadata": {},
   "outputs": [],
   "source": [
    "df['ICU Checkout Time'] = pd.to_datetime(df['ICU Checkout Time'])\n",
    "df['ICU Arrival Time'] = pd.to_datetime(df['ICU Arrival Time'])\n",
    "df['ICU Stay (Days)'] = (df['ICU Checkout Time'] - df['ICU Arrival Time']).dt.total_seconds() / (60 * 60 * 24)\n",
    "\n",
    "\n",
    "df['Admission Time'] = pd.to_datetime(df['Admission Time'])\n",
    "df['Discharge Time'] = pd.to_datetime(df['Discharge Time'])\n",
    "df['HospitalStay'] = (df['Discharge Time'] - df['Admission Time']).dt.total_seconds() / (60 * 60 * 24)\n",
    "\n"
   ]
  },
  {
   "cell_type": "code",
   "execution_count": 8,
   "id": "9a433035-f149-454a-a36c-5c896658b6e4",
   "metadata": {},
   "outputs": [
    {
     "data": {
      "application/vnd.jupyter.widget-view+json": {
       "model_id": "283cc19301d842f9baa8bfc113be2099",
       "version_major": 2,
       "version_minor": 0
      },
      "text/plain": [
       "VBox(children=(HBox(children=(Select(description='Gender', options=('All', 'Female', 'Male'), value='All'), Ra…"
      ]
     },
     "metadata": {},
     "output_type": "display_data"
    },
    {
     "data": {
      "application/vnd.jupyter.widget-view+json": {
       "model_id": "72a024a074494062b970cf646ea8d7de",
       "version_major": 2,
       "version_minor": 0
      },
      "text/plain": [
       "Output()"
      ]
     },
     "metadata": {},
     "output_type": "display_data"
    }
   ],
   "source": [
    "\n",
    "Gender_widget = widgets.Select(options=['All', 'Female', 'Male'], value='All', description='Gender')\n",
    "Comorbidities_widget = widgets.Checkbox(value=True, description='Comorbidities:')\n",
    "AnalysisType_widget = widgets.RadioButtons(options=['Hospital Stay', 'ICU Stay'], value='Hospital Stay', description='')\n",
    "\n",
    "# Arranging widgets\n",
    "ui = VBox([HBox([Gender_widget, AnalysisType_widget]), Comorbidities_widget])\n",
    "\n",
    "def plot_demographic(Gender, Comorbidities, AnalysisType):\n",
    "    if Gender == 'Female':\n",
    "        filtered_df = df[df['Gender'] == 'F']\n",
    "    elif Gender == 'Male':\n",
    "        filtered_df = df[df['Gender'] == 'M']\n",
    "    else:\n",
    "        filtered_df = df\n",
    "\n",
    "    df_com = filtered_df[filtered_df['Comorbidities'] == True]\n",
    "    df_com_not = filtered_df[filtered_df['Comorbidities'] == False]\n",
    "\n",
    "    if Comorbidities:\n",
    "        filtered_df = df_com\n",
    "    else:\n",
    "        filtered_df = df_com_not\n",
    "\n",
    "    if AnalysisType == 'Hospital Stay':\n",
    "        average_stay_by_age_group = filtered_df.groupby('Age Group')['HospitalStay'].mean().reset_index()\n",
    "        y_label = 'Average Hospital Stay (Days)'\n",
    "        title = 'Average Time Spent in a Hospital (days)'\n",
    "        y = 'HospitalStay'\n",
    "    else: # ICU Analysis\n",
    "        average_stay_by_age_group = filtered_df.groupby('Age Group')['ICU Stay (Days)'].mean().reset_index()\n",
    "        y_label = 'Average ICU Stay (Days)'\n",
    "        title = 'Average ICU Stay'\n",
    "        y = 'ICU Stay (Days)'\n",
    "\n",
    "    plt.figure(figsize=(8, 5.5))\n",
    "    bars = sns.barplot(x='Age Group', y=y, data=average_stay_by_age_group, palette='Paired')\n",
    "    for bar in bars.patches:\n",
    "        bars.annotate(format(bar.get_height(), '.1f'), \n",
    "                      (bar.get_x() + bar.get_width() / 2, \n",
    "                       bar.get_height()), ha='center', va='center',\n",
    "                       size=10, xytext=(0, 8),\n",
    "                       textcoords='offset points',\n",
    "                      bbox=dict(boxstyle=\"round,pad=0.2\", facecolor='grey',alpha=0.2))  # Bounding box\n",
    "\n",
    "\n",
    "    plt.tight_layout()\n",
    "\n",
    "    plt.title(title)\n",
    "    plt.xlabel('Age Group')\n",
    "    # plt.xticks(rotation=45, fontsize=12)\n",
    "\n",
    "    plt.ylabel(y_label)\n",
    "    plt.show()\n",
    "\n",
    "from ipywidgets import interactive_output\n",
    "out = interactive_output(plot_demographic, {'Gender': Gender_widget, 'Comorbidities': Comorbidities_widget, 'AnalysisType': AnalysisType_widget})\n",
    "\n",
    "display(ui, out)"
   ]
  },
  {
   "cell_type": "code",
   "execution_count": 9,
   "id": "e50f56c4-4834-4e41-8093-d3e8b52281c3",
   "metadata": {},
   "outputs": [
    {
     "data": {
      "application/vnd.jupyter.widget-view+json": {
       "model_id": "5970e794d47a47c997a954d97510d1a5",
       "version_major": 2,
       "version_minor": 0
      },
      "text/plain": [
       "HTML(value='<blockquote>According to Canadian Best Stroke Practices, referral to a healthcare professional \\n …"
      ]
     },
     "metadata": {},
     "output_type": "display_data"
    }
   ],
   "source": [
    "from IPython.display import HTML, display\n",
    "import ipywidgets as widgets\n",
    "\n",
    "# Create an HTML widget with the desired statement.\n",
    "# Here I'm using <blockquote> for semantic emphasis and <strong> to highlight the age specification.\n",
    "txt = widgets.HTML(\n",
    "    value=\"\"\"<blockquote>According to Canadian Best Stroke Practices, referral to a healthcare professional \n",
    "    with stroke expertise should be considered for patients with a suspected uncommon cause of stroke, \n",
    "    including for <strong>young patients with stroke (e.g., &lt;45 years of age)</strong>.</blockquote>\"\"\",\n",
    "    layout=widgets.Layout(margin='10px', padding='10px', border='2px solid red', width='auto')\n",
    ")\n",
    "\n",
    "# Display the widget in a layout that stands out.\n",
    "display(txt)\n"
   ]
  },
  {
   "cell_type": "code",
   "execution_count": null,
   "id": "8dd4e6b2",
   "metadata": {},
   "outputs": [],
   "source": []
  }
 ],
 "metadata": {
  "kernelspec": {
   "display_name": "Python 3 (ipykernel)",
   "language": "python",
   "name": "python3"
  },
  "language_info": {
   "codemirror_mode": {
    "name": "ipython",
    "version": 3
   },
   "file_extension": ".py",
   "mimetype": "text/x-python",
   "name": "python",
   "nbconvert_exporter": "python",
   "pygments_lexer": "ipython3",
   "version": "3.12.1"
  }
 },
 "nbformat": 4,
 "nbformat_minor": 5
}
