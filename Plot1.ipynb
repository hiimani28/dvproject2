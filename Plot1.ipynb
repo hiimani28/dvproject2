{
 "cells": [
  {
   "cell_type": "markdown",
   "metadata": {},
   "source": [
    "<div style=\"text-align:center; margin:auto\">\n",
    "<h1>Ischemic Stroke Visualization Dashboard</h1>\n",
    "</div>"
   ]
  },
  {
   "cell_type": "markdown",
   "metadata": {},
   "source": [
    "<div style=\"text-align:center; margin:auto\">\n",
    "<img src='./brainclot.jpg' height=400px width=600px>\n",
    "</div>"
   ]
  },
  {
   "cell_type": "code",
   "execution_count": 1,
   "metadata": {},
   "outputs": [],
   "source": [
    "import pandas as pd\n",
    "import matplotlib.pyplot as plt\n",
    "import seaborn as sns\n",
    "\n",
    "import ipywidgets as widgets\n",
    "from ipywidgets import interact"
   ]
  },
  {
   "cell_type": "code",
   "execution_count": 12,
   "metadata": {},
   "outputs": [],
   "source": [
    "df = pd.read_csv('stroke.csv')"
   ]
  },
  {
   "cell_type": "code",
   "execution_count": 3,
   "metadata": {},
   "outputs": [],
   "source": [
    "discharge_time = df['Discharge Time']\n",
    "discharge_time = pd.to_datetime(discharge_time)\n",
    "\n",
    "admission_time = df['Admission Time']\n",
    "admission_time = pd.to_datetime(admission_time)\n",
    "\n",
    "df['Admit Duration'] = discharge_time - admission_time"
   ]
  },
  {
   "cell_type": "code",
   "execution_count": 4,
   "metadata": {},
   "outputs": [],
   "source": [
    "emergency_time = df['Emergency Dept Time']\n",
    "emergency_time = pd.to_datetime(emergency_time)\n",
    "\n",
    "df['Emergency Response Time'] = admission_time - emergency_time"
   ]
  },
  {
   "cell_type": "code",
   "execution_count": 5,
   "metadata": {},
   "outputs": [],
   "source": [
    "df_com = df[df['Comorbidities']==True]\n",
    "df_com_not = df[df['Comorbidities']==False]"
   ]
  },
  {
   "cell_type": "markdown",
   "metadata": {},
   "source": [
    "## Demographics and Analysis with Comorbodities"
   ]
  },
  {
   "cell_type": "code",
   "execution_count": 11,
   "metadata": {},
   "outputs": [
    {
     "data": {
      "application/vnd.jupyter.widget-view+json": {
       "model_id": "462eff2e0f774fb5a7346fd77fc3d30b",
       "version_major": 2,
       "version_minor": 0
      },
      "text/plain": [
       "interactive(children=(Dropdown(description='Factor', options=('Age', 'Gender', 'Emergency Response Time', 'Adm…"
      ]
     },
     "metadata": {},
     "output_type": "display_data"
    }
   ],
   "source": [
    "@interact(Factor=['Age','Gender','Emergency Response Time', 'Admit Duration'], Show_Comorbidities=True)\n",
    "def plot_demographic(Factor, Show_Comorbidities):\n",
    "\n",
    "    fig, ax = plt.subplots(figsize=(10,6))\n",
    "    if Show_Comorbidities:\n",
    "        if not (Factor == 'Emergency Response Time' or Factor == 'Admit Duration'):\n",
    "            sns.histplot(df_com[Factor], label=f'{Factor} Comorbidities', element='step', stat='frequency') \n",
    "            sns.histplot(df_com_not[Factor], label=f'{Factor} Non-Comorbidities', element='step', stat='frequency') \n",
    "        else:\n",
    "            if Factor == 'Admit Duration':\n",
    "                sns.histplot(df_com[Factor].dt.total_seconds() / 86400, label=f'{Factor} Comorbidities', element='step', stat='frequency')\n",
    "                sns.histplot(df_com_not[Factor].dt.total_seconds() / 86400, label=f'{Factor} Non-Comorbidities', element='step', stat='frequency')\n",
    "            else:\n",
    "                sns.histplot(df_com[Factor].dt.total_seconds() / 3600, label=f'{Factor} Comorbidities', element='step', stat='frequency')\n",
    "                sns.histplot(df_com_not[Factor].dt.total_seconds() / 3600, label=f'{Factor} Non-Comorbidities', element='step', stat='frequency')\n",
    "    else:\n",
    "        if not (Factor == 'Emergency Response Time' or Factor == 'Admit Duration'):\n",
    "            sns.histplot(df[Factor], label=Factor, element='step') \n",
    "        else:\n",
    "            if Factor == 'Admit Duration':\n",
    "                sns.histplot(df[Factor].dt.total_seconds() / 86400, label=Factor, element='step')\n",
    "            else:\n",
    "                sns.histplot(df[Factor].dt.total_seconds() / 3600, label=Factor, element='step')\n",
    "        \n",
    "    ax.legend(loc='upper left')\n",
    "    plt.show()\n",
    "    "
   ]
  },
  {
   "cell_type": "code",
   "execution_count": null,
   "metadata": {},
   "outputs": [],
   "source": []
  }
 ],
 "metadata": {
  "kernelspec": {
   "display_name": "win2024",
   "language": "python",
   "name": "python3"
  },
  "language_info": {
   "codemirror_mode": {
    "name": "ipython",
    "version": 3
   },
   "file_extension": ".py",
   "mimetype": "text/x-python",
   "name": "python",
   "nbconvert_exporter": "python",
   "pygments_lexer": "ipython3",
   "version": "3.12.1"
  }
 },
 "nbformat": 4,
 "nbformat_minor": 2
}
