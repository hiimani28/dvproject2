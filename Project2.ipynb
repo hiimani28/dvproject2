{
 "cells": [
  {
   "cell_type": "markdown",
   "metadata": {},
   "source": [
    "## Students Details\n",
    "\n",
    "- *Name*: Himani Thakkar\n",
    "- *Student #*: 202292672\n",
    "- *Email*: hthakkar@mun.ca\n",
    "\n",
    "---\n",
    "\n",
    "- *Name*: Pranav Arora\n",
    "- *Student #*: 202286040\n",
    "- *Email*: parora@mun.ca\n",
    "\n",
    "---\n"
   ]
  },
  {
   "cell_type": "code",
   "execution_count": 20,
   "metadata": {},
   "outputs": [],
   "source": [
    "# To run the notebook on voila use: $ voila .\\Project2.ipynb\n",
    "\n",
    "# Sometimes it takes long execution time, which is also addressed in its documentation (https://voila.readthedocs.io/en/stable/customize.html#preheated-kernels).\n",
    "# To migitage the long execution times, they have deviced a solution: run: $ voila --preheat_kernel=True --pool_size=5\n",
    "# Then you can choose Project2.ipynb on the voila dashboard.\n",
    "\n",
    "# There's a little hack that we discovered, refresh your browser each time it gets stucked, you'll probably have to do that thrice, but it is much faster."
   ]
  },
  {
   "cell_type": "markdown",
   "metadata": {},
   "source": [
    "<div style=\"text-align:center; margin:auto;\">\n",
    "<h1 style=\"font-weight: bolder;\">Ischemic Stroke Visualization Dashboard</h1>\n",
    "</div>"
   ]
  },
  {
   "cell_type": "code",
   "execution_count": 2,
   "metadata": {},
   "outputs": [],
   "source": [
    "import pandas as pd\n",
    "import matplotlib.pyplot as plt\n",
    "import seaborn as sns\n",
    "import numpy as np\n",
    "import squarify\n",
    "\n",
    "import ipywidgets as widgets\n",
    "from ipywidgets import interact, widgets, HBox, VBox\n",
    "from ipywidgets import interactive_output\n",
    "from IPython.display import HTML, display\n",
    "\n",
    "\n",
    "import warnings\n",
    "warnings.filterwarnings('ignore')"
   ]
  },
  {
   "cell_type": "code",
   "execution_count": 3,
   "metadata": {},
   "outputs": [],
   "source": [
    "RED = '#CA0016'\n",
    "BLUE = '#009797'\n",
    "OCHRE = '#E0D897'"
   ]
  },
  {
   "cell_type": "markdown",
   "metadata": {},
   "source": [
    "## Patient Demographic Analysis"
   ]
  },
  {
   "cell_type": "code",
   "execution_count": 4,
   "metadata": {},
   "outputs": [],
   "source": [
    "df = pd.read_csv('stroke.csv')"
   ]
  },
  {
   "cell_type": "code",
   "execution_count": 5,
   "metadata": {},
   "outputs": [],
   "source": [
    "df_1 = df.copy()"
   ]
  },
  {
   "cell_type": "code",
   "execution_count": 6,
   "metadata": {},
   "outputs": [
    {
     "data": {
      "application/vnd.jupyter.widget-view+json": {
       "model_id": "2b9df8eb1c544a8ca7abe32c1fa12551",
       "version_major": 2,
       "version_minor": 0
      },
      "text/plain": [
       "interactive(children=(Select(description='Gender', options=('All', 'Female', 'Male'), value='All'), Select(des…"
      ]
     },
     "metadata": {},
     "output_type": "display_data"
    }
   ],
   "source": [
    "discharge_time = df_1['Discharge Time']\n",
    "discharge_time = pd.to_datetime(discharge_time)\n",
    "\n",
    "admission_time = df_1['Admission Time']\n",
    "admission_time = pd.to_datetime(admission_time)\n",
    "\n",
    "df_1['Admit Duration'] = discharge_time - admission_time\n",
    "\n",
    "emergency_time = df_1['Emergency Dept Time']\n",
    "emergency_time = pd.to_datetime(emergency_time)\n",
    "\n",
    "ct_time = df_1['CT Scan Time']\n",
    "ct_time = pd.to_datetime(ct_time)\n",
    "\n",
    "df_1['Emergency Response Time'] = ct_time - emergency_time\n",
    "\n",
    "@interact(Gender=widgets.Select(options=['All', 'Female', 'Male'], value='All'), Factor=widgets.Select(options=['Age','Emergency Response Time', 'Admit Duration'], value='Age'), Show_Comorbidities=True)\n",
    "def plot_demographic(Gender, Factor, Show_Comorbidities):\n",
    "\n",
    "    if Gender=='Female':\n",
    "        df_demo = df_1[df_1['Gender'] == 'F']\n",
    "    elif Gender =='Male':\n",
    "        df_demo =df_1[df_1['Gender'] == 'M']\n",
    "    else:\n",
    "        df_demo = df_1\n",
    "    \n",
    "    df_com = df_demo[df_demo['Comorbidities']==True]\n",
    "    df_com_not = df_demo[df_demo['Comorbidities']==False]\n",
    "\n",
    "    fig, ax = plt.subplots(figsize=(10,6))\n",
    "\n",
    "    if Show_Comorbidities:\n",
    "        if Factor=='Age':\n",
    "            sns.histplot(df_com[Factor], label='Comorbidities', element='step', stat='frequency',ec='black', color=RED) \n",
    "            sns.histplot(df_com_not[Factor], label='Non-Comorbidities', element='step', stat='frequency',ec='black', color=BLUE)\n",
    "            ax.set_xlabel('Age (years)') \n",
    "        else:\n",
    "            if Factor == 'Admit Duration':\n",
    "                sns.histplot(df_com[Factor].dt.total_seconds() / 86400, label='Comorbidities', element='step',ec='black', stat='frequency', color=RED)\n",
    "                sns.histplot(df_com_not[Factor].dt.total_seconds() / 86400, label='Non-Comorbidities', element='step',ec='black', stat='frequency', color=BLUE)\n",
    "                ax.set_xlabel('Admit Time (days)')\n",
    "            else:\n",
    "                sns.histplot(df_com[Factor].dt.total_seconds() / 60, label='Comorbidities', element='step',ec='black', stat='frequency', color=RED)\n",
    "                sns.histplot(df_com_not[Factor].dt.total_seconds() / 60, label='Non-Comorbidities', element='step',ec='black', stat='frequency', color=BLUE)\n",
    "                ax.set_xlabel('Response Time (minutes)')\n",
    "    else:\n",
    "        if Factor=='Age':\n",
    "            sns.histplot(df_demo[Factor], label=Factor, element='step', color=OCHRE)\n",
    "            ax.set_xlabel('Age (years)') \n",
    "        else:\n",
    "            if Factor == 'Admit Duration':\n",
    "                sns.histplot(df_demo[Factor].dt.total_seconds() / 86400, label=Factor, element='step',ec='black', stat='frequency', color=OCHRE)\n",
    "                ax.set_xlabel('Admit Time (days)')\n",
    "            else:\n",
    "                sns.histplot(df_demo[Factor].dt.total_seconds() / 60, label=Factor, element='step',ec='black', stat='frequency', color=OCHRE)\n",
    "                ax.set_xlabel('Response Time (minutes)')\n",
    "        \n",
    "    ax.legend()\n",
    "    ax.set_ylabel('Patient Frequency')\n",
    "    ax.set_title(f'{Gender} Demographic Data ({Factor})')\n",
    "    plt.show()\n",
    "    "
   ]
  },
  {
   "cell_type": "markdown",
   "metadata": {},
   "source": [
    "## Stay Analysis"
   ]
  },
  {
   "cell_type": "code",
   "execution_count": 7,
   "metadata": {},
   "outputs": [],
   "source": [
    "df_2 = df.copy()"
   ]
  },
  {
   "cell_type": "code",
   "execution_count": 8,
   "metadata": {},
   "outputs": [
    {
     "data": {
      "application/vnd.jupyter.widget-view+json": {
       "model_id": "32f6ea2629024b5699ae33d966f48519",
       "version_major": 2,
       "version_minor": 0
      },
      "text/plain": [
       "VBox(children=(HBox(children=(Select(description='Gender', options=('All', 'Female', 'Male'), value='All'), Ra…"
      ]
     },
     "metadata": {},
     "output_type": "display_data"
    },
    {
     "data": {
      "application/vnd.jupyter.widget-view+json": {
       "model_id": "4f656e944f104a32876839d6420151ef",
       "version_major": 2,
       "version_minor": 0
      },
      "text/plain": [
       "Output()"
      ]
     },
     "metadata": {},
     "output_type": "display_data"
    }
   ],
   "source": [
    "def categorize_age(age):\n",
    "    if age <= 45:\n",
    "        return '0-45'\n",
    "    elif 45 < age <= 60:\n",
    "        return '45-60'\n",
    "    elif 60 < age <=70:\n",
    "        return '60-70'\n",
    "    elif 70 < age <= 80:\n",
    "        return '70-80'\n",
    "    else:\n",
    "        return '80+'\n",
    "\n",
    "df_2['Age Group'] = df_2['Age'].apply(categorize_age)\n",
    "\n",
    "df_2['ICU Checkout Time'] = pd.to_datetime(df_2['ICU Checkout Time'])\n",
    "df_2['ICU Arrival Time'] = pd.to_datetime(df_2['ICU Arrival Time'])\n",
    "df_2['ICU Stay (Days)'] = (df_2['ICU Checkout Time'] - df_2['ICU Arrival Time']).dt.total_seconds() / (60 * 60 * 24)\n",
    "\n",
    "\n",
    "df_2['Admission Time'] = pd.to_datetime(df_2['Admission Time'])\n",
    "df_2['Discharge Time'] = pd.to_datetime(df_2['Discharge Time'])\n",
    "df_2['HospitalStay'] = (df_2['Discharge Time'] - df_2['Admission Time']).dt.total_seconds() / (60 * 60 * 24)\n",
    "\n",
    "base_color = RED\n",
    "\n",
    "Gender_widget = widgets.Select(options=['All', 'Female', 'Male'], value='All', description='Gender')\n",
    "Comorbidities_widget = widgets.Checkbox(value=True, description='Comorbidities')\n",
    "AnalysisType_widget = widgets.RadioButtons(options=['Hospital Stay', 'ICU Stay'], value='Hospital Stay', description='')\n",
    "\n",
    "# Arranging widgets\n",
    "ui = VBox([HBox([Gender_widget, AnalysisType_widget]), Comorbidities_widget])\n",
    "\n",
    "def plot_stay(Gender, Comorbidities, AnalysisType):\n",
    "    if Gender == 'Female':\n",
    "        filtered_df = df_2[df_2['Gender'] == 'F']\n",
    "    elif Gender == 'Male':\n",
    "        filtered_df = df_2[df_2['Gender'] == 'M']\n",
    "    else:\n",
    "        filtered_df = df_2\n",
    "\n",
    "    df_com = filtered_df[filtered_df['Comorbidities'] == True]\n",
    "    df_com_not = filtered_df[filtered_df['Comorbidities'] == False]\n",
    "\n",
    "    if Comorbidities:\n",
    "        filtered_df = df_com\n",
    "    else:\n",
    "        filtered_df = df_com_not\n",
    "\n",
    "    if AnalysisType == 'Hospital Stay':\n",
    "        average_stay_by_age_group = filtered_df.groupby('Age Group')['HospitalStay'].mean().reset_index()\n",
    "        y_label = 'Average Hospital Stay (Days)'\n",
    "        title = 'Average Time Spent in a Hospital (days)'\n",
    "        y = 'HospitalStay'\n",
    "    else: # ICU Analysis\n",
    "        average_stay_by_age_group = filtered_df.groupby('Age Group')['ICU Stay (Days)'].mean().reset_index()\n",
    "        y_label = 'Average ICU Stay (Days)'\n",
    "        title = 'Average ICU Stay'\n",
    "        y = 'ICU Stay (Days)'\n",
    "\n",
    "    plt.figure(figsize=(10,5))\n",
    "    bars = sns.barplot(x='Age Group', y=y, data=average_stay_by_age_group, palette=[base_color])\n",
    "\n",
    "    value_range = max(average_stay_by_age_group[y]) - min(average_stay_by_age_group[y]) + 0.5\n",
    "\n",
    "    for i, bar in enumerate(plt.gca().patches):\n",
    "        value = average_stay_by_age_group[y][i]\n",
    "        darken_factor = (value - min(average_stay_by_age_group[y])) / value_range\n",
    "        new_color = tuple(max(0, min(1, c * (1 - darken_factor))) for c in sns.color_palette([base_color])[0])\n",
    "        bar.set_facecolor(new_color)\n",
    "    \n",
    "    for bar in bars.patches:\n",
    "        bars.annotate(format(bar.get_height(), '.1f'), \n",
    "                      (bar.get_x() + bar.get_width() / 2, \n",
    "                       bar.get_height()), ha='center', va='center',\n",
    "                       size=10, xytext=(0, 8),\n",
    "                       textcoords='offset points',\n",
    "                      bbox=dict(boxstyle=\"round,pad=0.2\", facecolor='grey',alpha=0.2))  # Bounding box\n",
    "\n",
    "\n",
    "    plt.tight_layout()\n",
    "\n",
    "    plt.title(title)\n",
    "    plt.xlabel('Age Group')\n",
    "    # plt.xticks(rotation=45, fontsize=12)\n",
    "\n",
    "    plt.ylabel(y_label)\n",
    "    plt.show()\n",
    "\n",
    "\n",
    "out = interactive_output(plot_stay, {'Gender': Gender_widget, 'Comorbidities': Comorbidities_widget, 'AnalysisType': AnalysisType_widget})\n",
    "\n",
    "display(ui, out)"
   ]
  },
  {
   "cell_type": "code",
   "execution_count": 9,
   "metadata": {},
   "outputs": [
    {
     "data": {
      "application/vnd.jupyter.widget-view+json": {
       "model_id": "8b3f43c436c24d96963691f2e96c3bde",
       "version_major": 2,
       "version_minor": 0
      },
      "text/plain": [
       "HTML(value='<blockquote><a href=\"https://www.strokebestpractices.ca/recommendations/acute-stroke-management/tr…"
      ]
     },
     "metadata": {},
     "output_type": "display_data"
    }
   ],
   "source": [
    "# Here I'm using <blockquote> for semantic emphasis and <strong> to highlight the age specification.\n",
    "txt = widgets.HTML(\n",
    "    value=\"\"\"<blockquote><a href=\"https://www.strokebestpractices.ca/recommendations/acute-stroke-management/triage-and-initial-diagnostic-evaluation-of-transient-ischemic-attack-and-non-disabling-stroke\" target=_blank style=\"color: blue\">(Reference) Acute Stroke Management (Section 2.1 Clinical Considerations)</a> <br> According to Canadian Best Stroke Practices, referral to a healthcare professional \n",
    "    with stroke expertise should be considered for patients with a suspected uncommon cause of stroke, \n",
    "    including for <strong>young patients with stroke (e.g., &lt;45 years of age)</strong>.</blockquote>\"\"\",\n",
    "    layout=widgets.Layout(margin='10px', padding='10px', border='2px solid red', width='auto')\n",
    ")\n",
    "\n",
    "# Display the widget in a layout that stands out.\n",
    "display(txt)\n"
   ]
  },
  {
   "cell_type": "markdown",
   "metadata": {},
   "source": [
    "## ICU Visits Analysis"
   ]
  },
  {
   "cell_type": "code",
   "execution_count": 10,
   "metadata": {},
   "outputs": [],
   "source": [
    "df_3 = df.copy()"
   ]
  },
  {
   "cell_type": "code",
   "execution_count": 11,
   "metadata": {},
   "outputs": [
    {
     "data": {
      "application/vnd.jupyter.widget-view+json": {
       "model_id": "a6a27e86fc9e4fd990b42a7423d0e7c1",
       "version_major": 2,
       "version_minor": 0
      },
      "text/plain": [
       "VBox(children=(HBox(children=(SelectMultiple(description='Visits(Multiple):', index=(0,), options=('Neurologis…"
      ]
     },
     "metadata": {},
     "output_type": "display_data"
    },
    {
     "data": {
      "application/vnd.jupyter.widget-view+json": {
       "model_id": "6667271fd4e14a0285d11209dc2e26f8",
       "version_major": 2,
       "version_minor": 0
      },
      "text/plain": [
       "Output()"
      ]
     },
     "metadata": {},
     "output_type": "display_data"
    }
   ],
   "source": [
    "df_icu = df_3[df_3['ICU Checkout Time'].notna()]\n",
    "df_icu_visit = df_icu[df_icu.isin(['Neurologist Visit']).notna().any(axis=1)].copy()\n",
    "visits = ['Neurologist Visit', 'Occupational Therapist Visit', 'Speech Pathologist Visit', 'Physiotherapist Visit', 'Dietitian Visit', 'Social Worker Visit', 'Cardiologist Visit']\n",
    "\n",
    "visit_widget = widgets.SelectMultiple(options=visits, value=['Neurologist Visit'], description='Visits(Multiple):', style={'description_width': 'initial'})\n",
    "comorbidities_widget = widgets.Checkbox(value=False, description='Comorbidities')\n",
    "viewBy_widget = widgets.RadioButtons(options=['Patient Id', 'Age'], value='Patient Id', description='View By:')\n",
    "\n",
    "# Arranging widgets\n",
    "ui = VBox([HBox([visit_widget, viewBy_widget]), comorbidities_widget])\n",
    "\n",
    "def plot_visits(Visit, ViewBy, Show_Comorbidities):\n",
    "    fig, ax = plt.subplots(figsize=(10,6))\n",
    "\n",
    "    if Show_Comorbidities:\n",
    "        df_icu_visit = df_icu[df_icu['Comorbidities']]\n",
    "\n",
    "    df_icu_visit = df_icu[df_icu.isin(Visit).notna().any(axis=1)].copy()\n",
    "    \n",
    "    for visit in Visit:\n",
    "        doctor_visit = pd.to_datetime(df_icu_visit[visit])\n",
    "        icu_time = pd.to_datetime(df_icu_visit['ICU Checkout Time'])\n",
    "\n",
    "        df_icu_visit[f'Arrival in ICU ({visit})'] = doctor_visit - icu_time\n",
    "\n",
    "\n",
    "        df_icu_visit.loc[df_icu_visit[f'Arrival in ICU ({visit})'] <= pd.Timedelta(0), f'In ICU ({visit})'] = 'Visit During\\nICU Stay'\n",
    "        df_icu_visit.loc[df_icu_visit[f'Arrival in ICU ({visit})'] > pd.Timedelta(0), f'In ICU ({visit})'] = 'Visit After\\nICU Checkout'\n",
    "\n",
    "    df_icu_visit['Intersection'] = np.nan\n",
    "\n",
    "    df_icu_visit['Intersection'] = df_icu_visit['Intersection'].astype(object)\n",
    "\n",
    "    for visit in Visit:\n",
    "        df_icu_visit.loc[df_icu_visit[f'In ICU ({visit})'] == 'Visit During\\nICU Stay', 'Intersection'] = 'Visit During\\nICU Stay'\n",
    "        df_icu_visit.loc[df_icu_visit[f'In ICU ({visit})'] == 'Visit After\\nICU Checkout', 'Intersection'] = 'Visit After\\nICU Checkout'\n",
    "\n",
    "    nan_condition = df_icu_visit[[f'In ICU ({visit})' for visit in Visit]].isna().any(axis=1)\n",
    "    df_icu_visit.loc[nan_condition, 'Intersection'] = np.nan\n",
    "\n",
    "    project_palette = {'Visit During\\nICU Stay': RED, 'Visit After\\nICU Checkout': BLUE}\n",
    "\n",
    "    sns.stripplot(data=df_icu_visit, x=ViewBy, y='Intersection', hue='Intersection', s=2, order=['Visit During\\nICU Stay', 'Visit After\\nICU Checkout'], ax=ax, legend=False, palette=project_palette)\n",
    "\n",
    "    ax.set_ylabel('')\n",
    "    ax.set_title('ICU Visits Analysis')\n",
    "\n",
    "\n",
    "out = interactive_output(plot_visits, {'Visit': visit_widget, 'Show_Comorbidities': comorbidities_widget, 'ViewBy': viewBy_widget})\n",
    "\n",
    "display(ui, out)\n"
   ]
  },
  {
   "cell_type": "code",
   "execution_count": 12,
   "metadata": {},
   "outputs": [
    {
     "data": {
      "application/vnd.jupyter.widget-view+json": {
       "model_id": "cebbe52a120f44c4a7c214c4d5212c8a",
       "version_major": 2,
       "version_minor": 0
      },
      "text/plain": [
       "HTML(value='<blockquote> <a href = \"https://prod.strokebestpractices.ca/recommendations/acute-stroke-managemen…"
      ]
     },
     "metadata": {},
     "output_type": "display_data"
    }
   ],
   "source": [
    "txt = widgets.HTML(\n",
    "    value=\"\"\"<blockquote> <a href = \"https://prod.strokebestpractices.ca/recommendations/acute-stroke-management/inpatient-prevention-and-management-of-complications-following-stroke?_ga=2.101666051.384248697.1711740394-1300068819.1711740393\" target=_blank style=\"color: blue\">(Reference) Acute Stroke Management (9.6 Nutrition and Dysphagia(iii))</a> <br>\n",
    "\n",
    "Abnormal results from the initial or ongoing swallowing screens should trigger a prompt referral to a <strong>speech-language pathologist, occupational therapist, dietitian,</strong> and/or other trained dysphagia clinicians for more detailed assessment and management of swallowing, feeding, nutritional, and hydration status [Strong recommendation; Moderate quality of evidence].\n",
    "</blockquote>\"\"\",\n",
    "    layout=widgets.Layout(margin='10px', padding='10px', border='2px solid red', width='auto')\n",
    ")\n",
    "\n",
    "display(txt)"
   ]
  },
  {
   "cell_type": "code",
   "execution_count": 13,
   "metadata": {},
   "outputs": [],
   "source": [
    "# When selecting the Occupational Therapist Visit, Speech Pathalogist Visit and Dietician Visit together and setting x-axis to Age, we came to know that patients from <strong>50 to 90 years</strong> are being referred to these physicians during their stay in ICU, probably showing the mentioned symptoms during their ICU stay.\n",
    "\n",
    "# We expected the neurologist visit during ICU time the most but it seems that Neurologist visit after the ICU checkout is also significant.\n"
   ]
  },
  {
   "cell_type": "markdown",
   "metadata": {},
   "source": [
    "## TPA Impact Analysis"
   ]
  },
  {
   "cell_type": "code",
   "execution_count": 14,
   "metadata": {},
   "outputs": [],
   "source": [
    "df_4 = df.copy()"
   ]
  },
  {
   "cell_type": "code",
   "execution_count": 17,
   "metadata": {},
   "outputs": [],
   "source": [
    "df_4= df_4[df_4['Comorbidities']==False]\n",
    "\n",
    "df_4['TPA Time'] = pd.to_datetime(df_4['TPA Time'])\n",
    "df_4['Emergency Dept Time'] = pd.to_datetime(df_4['Emergency Dept Time'])\n",
    "df_4['TPA_Done'] = df_4['TPA Time'].notna().astype(int)\n",
    "df_4['TimeForTPA'] = (df_4['TPA Time'] - df_4['Emergency Dept Time']).dt.total_seconds() / 60\n",
    "\n",
    "df_4['ICU Checkout Time'] = pd.to_datetime(df_4['ICU Checkout Time'])\n",
    "df_4['ICU Arrival Time'] = pd.to_datetime(df_4['ICU Arrival Time'])\n",
    "df_4['ICUStay(Days)'] = (df_4['ICU Checkout Time'] - df_4['ICU Arrival Time']).dt.total_seconds() / (60 * 60 * 24)\n",
    "df_4['ICUStay_Flag'] = df_4['ICU Arrival Time'].notna().astype(int)\n",
    "df_4['Admission Time'] = pd.to_datetime(df_4['ICU Checkout Time'])\n",
    "df_4['ICU Arrival Time'] = pd.to_datetime(df_4['ICU Arrival Time'])\n",
    "df_4['ICUStay(Days)'] = (df_4['ICU Checkout Time'] - df_4['ICU Arrival Time']).dt.total_seconds() / (60 * 60 * 24)\n",
    "\n",
    "def categorize_age(age):\n",
    "    if age <= 45:\n",
    "        return '0-45'\n",
    "    elif 45 < age <= 60:\n",
    "        return '45-60'\n",
    "    elif 60 < age <=70:\n",
    "        return '60-70'\n",
    "    elif 70 < age <= 80:\n",
    "        return '70-80'\n",
    "    else:\n",
    "        return '80+'\n",
    "\n",
    "# Apply the function to create a new column 'Age Group'\n",
    "df_4['Age Group'] = df_4['Age'].apply(categorize_age)"
   ]
  },
  {
   "cell_type": "code",
   "execution_count": 19,
   "metadata": {},
   "outputs": [
    {
     "data": {
      "application/vnd.jupyter.widget-view+json": {
       "model_id": "bf29694720584b90bb4a4790d5daec81",
       "version_major": 2,
       "version_minor": 0
      },
      "text/plain": [
       "interactive(children=(SelectMultiple(description='Age Groups', index=(0, 1, 2, 3, 4), options=('0-45', '45-60'…"
      ]
     },
     "metadata": {},
     "output_type": "display_data"
    }
   ],
   "source": [
    "age_groups = sorted(df_4['Age Group'].unique())\n",
    "color_mapping = {\n",
    "    (0, 0): '#2ca02c',  # Non-ICU & No TPA # green\n",
    "    (0, 1): OCHRE,  # Non-ICU & TPA - ochre\n",
    "    (1, 0): BLUE,  # ICU & No TPA green\n",
    "    (1, 1): RED,  # ICU & TPA red\n",
    "}\n",
    "\n",
    "@interact\n",
    "def plot_treemap(selected_age_groups=widgets.SelectMultiple(options=age_groups, value=age_groups, description=\"Age Groups\")):\n",
    "    filtered_df = df_4[df_4['Age Group'].isin(selected_age_groups)]\n",
    "    \n",
    "    icu_tpa = filtered_df.groupby(['ICUStay_Flag', 'TPA_Done']).size().reset_index(name='counts')\n",
    "    icu_tpa['label'] = icu_tpa.apply(lambda x: f\"{'TPA' if x['TPA_Done'] == 1 else 'No TPA'} --> {'ICU' if x['ICUStay_Flag'] == 1 else 'No ICU'}\\nPatients: {x['counts']}\", axis=1)\n",
    "    sizes = icu_tpa['counts'].values\n",
    "    labels = icu_tpa['label'].values\n",
    "\n",
    "    colors = [color_mapping[(row['ICUStay_Flag'], row['TPA_Done'])] for index, row in icu_tpa.iterrows()]\n",
    "\n",
    "    plt.figure(figsize=(10, 8))\n",
    "    squarify.plot(sizes=sizes, label=labels, alpha=0.8, color=colors, ec='w', text_kwargs=dict(color='#002147', fontweight='bold'))\n",
    "    plt.title('TPA Impact Analysis')\n",
    "    plt.axis('off')\n",
    "    plt.show()\n"
   ]
  },
  {
   "cell_type": "markdown",
   "metadata": {},
   "source": [
    "## Attributions\n",
    "\n",
    "- Widget List - https://ipywidgets.readthedocs.io/en/latest/examples/Widget%20List.html\n",
    "- Time Series / date functionality - https://pandas.pydata.org/docs/user_guide/timeseries.html\n",
    "- Color Inspiration - https://crsn.ca/en/stroke-best-practices/best-practice-guidelines\n",
    "- StripPlot - https://seaborn.pydata.org/generated/seaborn.stripplot.html#seaborn.stripplot\n",
    "- Indexing Copy - https://pandas.pydata.org/pandas-docs/stable/user_guide/indexing.html#returning-a-view-versus-a-copy\n",
    "- Changing Color in Seaborn Bar plot - https://stackoverflow.com/questions/36271302/changing-color-scale-in-seaborn-bar-plot\n",
    "- Squarify - https://github.com/laserson/squarify"
   ]
  },
  {
   "cell_type": "markdown",
   "metadata": {},
   "source": []
  }
 ],
 "metadata": {
  "kernelspec": {
   "display_name": "win2024",
   "language": "python",
   "name": "python3"
  },
  "language_info": {
   "codemirror_mode": {
    "name": "ipython",
    "version": 3
   },
   "file_extension": ".py",
   "mimetype": "text/x-python",
   "name": "python",
   "nbconvert_exporter": "python",
   "pygments_lexer": "ipython3",
   "version": "3.12.1"
  }
 },
 "nbformat": 4,
 "nbformat_minor": 2
}
