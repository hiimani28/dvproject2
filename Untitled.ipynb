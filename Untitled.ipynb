{
 "cells": [
  {
   "cell_type": "code",
   "execution_count": 65,
   "id": "ec23e415-f485-4610-b5dd-9a6da28b5513",
   "metadata": {},
   "outputs": [
    {
     "data": {
      "text/html": [
       "<div>\n",
       "<style scoped>\n",
       "    .dataframe tbody tr th:only-of-type {\n",
       "        vertical-align: middle;\n",
       "    }\n",
       "\n",
       "    .dataframe tbody tr th {\n",
       "        vertical-align: top;\n",
       "    }\n",
       "\n",
       "    .dataframe thead th {\n",
       "        text-align: right;\n",
       "    }\n",
       "</style>\n",
       "<table border=\"1\" class=\"dataframe\">\n",
       "  <thead>\n",
       "    <tr style=\"text-align: right;\">\n",
       "      <th></th>\n",
       "      <th>Patient Id</th>\n",
       "      <th>Age</th>\n",
       "      <th>Gender</th>\n",
       "      <th>Comorbidities</th>\n",
       "      <th>Emergency Dept Time</th>\n",
       "      <th>Admission Time</th>\n",
       "      <th>Discharge Time</th>\n",
       "      <th>CT Scan Time</th>\n",
       "      <th>TPA Time</th>\n",
       "      <th>ICU Arrival Time</th>\n",
       "      <th>ICU Checkout Time</th>\n",
       "      <th>Neurology Ward Arrival Time</th>\n",
       "      <th>Occupational Therapist Visit</th>\n",
       "      <th>Speech Pathologist Visit</th>\n",
       "      <th>Physiotherapist Visit</th>\n",
       "      <th>Dietitian Visit</th>\n",
       "      <th>Social Worker Visit</th>\n",
       "      <th>Cardiologist Visit</th>\n",
       "      <th>Neurologist Visit</th>\n",
       "    </tr>\n",
       "  </thead>\n",
       "  <tbody>\n",
       "    <tr>\n",
       "      <th>0</th>\n",
       "      <td>0</td>\n",
       "      <td>67</td>\n",
       "      <td>F</td>\n",
       "      <td>True</td>\n",
       "      <td>2022-06-15 19:27:00</td>\n",
       "      <td>2022-06-16 03:57:00</td>\n",
       "      <td>2022-07-04 07:07:00</td>\n",
       "      <td>2022-06-15 19:45:00</td>\n",
       "      <td>NaN</td>\n",
       "      <td>NaN</td>\n",
       "      <td>NaN</td>\n",
       "      <td>2022-06-16 05:01:00</td>\n",
       "      <td>2022-06-18 23:28:00</td>\n",
       "      <td>2022-07-04 06:26:00</td>\n",
       "      <td>2022-06-29 06:35:00</td>\n",
       "      <td>NaN</td>\n",
       "      <td>NaN</td>\n",
       "      <td>NaN</td>\n",
       "      <td>2022-06-20 06:47:00</td>\n",
       "    </tr>\n",
       "    <tr>\n",
       "      <th>1</th>\n",
       "      <td>1</td>\n",
       "      <td>75</td>\n",
       "      <td>F</td>\n",
       "      <td>False</td>\n",
       "      <td>2023-01-04 23:20:00</td>\n",
       "      <td>2023-01-05 02:13:00</td>\n",
       "      <td>2023-01-10 10:59:00</td>\n",
       "      <td>2023-01-04 23:33:00</td>\n",
       "      <td>NaN</td>\n",
       "      <td>2023-01-05 02:14:00</td>\n",
       "      <td>2023-01-06 09:44:00</td>\n",
       "      <td>2023-01-06 09:44:00</td>\n",
       "      <td>NaN</td>\n",
       "      <td>2023-01-07 01:21:00</td>\n",
       "      <td>2023-01-05 03:13:00</td>\n",
       "      <td>NaN</td>\n",
       "      <td>2023-01-06 00:39:00</td>\n",
       "      <td>NaN</td>\n",
       "      <td>2023-01-06 06:17:00</td>\n",
       "    </tr>\n",
       "    <tr>\n",
       "      <th>2</th>\n",
       "      <td>2</td>\n",
       "      <td>50</td>\n",
       "      <td>M</td>\n",
       "      <td>False</td>\n",
       "      <td>2022-12-28 18:33:00</td>\n",
       "      <td>2022-12-29 03:20:00</td>\n",
       "      <td>2023-01-06 08:01:00</td>\n",
       "      <td>2022-12-28 18:47:00</td>\n",
       "      <td>NaN</td>\n",
       "      <td>2023-01-01 08:51:00</td>\n",
       "      <td>2023-01-02 22:15:00</td>\n",
       "      <td>2023-01-02 22:15:00</td>\n",
       "      <td>NaN</td>\n",
       "      <td>NaN</td>\n",
       "      <td>NaN</td>\n",
       "      <td>2023-01-06 07:42:00</td>\n",
       "      <td>2023-01-01 04:57:00</td>\n",
       "      <td>NaN</td>\n",
       "      <td>2022-12-29 22:37:00</td>\n",
       "    </tr>\n",
       "    <tr>\n",
       "      <th>3</th>\n",
       "      <td>3</td>\n",
       "      <td>63</td>\n",
       "      <td>M</td>\n",
       "      <td>False</td>\n",
       "      <td>2023-05-28 11:08:00</td>\n",
       "      <td>2023-05-28 13:35:00</td>\n",
       "      <td>2023-06-26 06:38:00</td>\n",
       "      <td>2023-05-28 11:21:00</td>\n",
       "      <td>NaN</td>\n",
       "      <td>NaN</td>\n",
       "      <td>NaN</td>\n",
       "      <td>2023-06-24 18:28:00</td>\n",
       "      <td>2023-05-29 05:56:00</td>\n",
       "      <td>2023-06-07 13:40:00</td>\n",
       "      <td>2023-06-01 08:31:00</td>\n",
       "      <td>2023-06-07 23:12:00</td>\n",
       "      <td>2023-05-30 11:21:00</td>\n",
       "      <td>NaN</td>\n",
       "      <td>2023-05-29 11:59:00</td>\n",
       "    </tr>\n",
       "    <tr>\n",
       "      <th>4</th>\n",
       "      <td>4</td>\n",
       "      <td>64</td>\n",
       "      <td>M</td>\n",
       "      <td>False</td>\n",
       "      <td>2022-01-21 19:48:00</td>\n",
       "      <td>2022-01-22 05:16:00</td>\n",
       "      <td>2022-02-01 20:01:00</td>\n",
       "      <td>2022-01-21 20:01:00</td>\n",
       "      <td>NaN</td>\n",
       "      <td>NaN</td>\n",
       "      <td>NaN</td>\n",
       "      <td>2022-01-22 06:43:00</td>\n",
       "      <td>2022-02-01 19:30:00</td>\n",
       "      <td>NaN</td>\n",
       "      <td>NaN</td>\n",
       "      <td>NaN</td>\n",
       "      <td>2022-01-22 06:57:00</td>\n",
       "      <td>NaN</td>\n",
       "      <td>2022-01-26 21:26:00</td>\n",
       "    </tr>\n",
       "    <tr>\n",
       "      <th>...</th>\n",
       "      <td>...</td>\n",
       "      <td>...</td>\n",
       "      <td>...</td>\n",
       "      <td>...</td>\n",
       "      <td>...</td>\n",
       "      <td>...</td>\n",
       "      <td>...</td>\n",
       "      <td>...</td>\n",
       "      <td>...</td>\n",
       "      <td>...</td>\n",
       "      <td>...</td>\n",
       "      <td>...</td>\n",
       "      <td>...</td>\n",
       "      <td>...</td>\n",
       "      <td>...</td>\n",
       "      <td>...</td>\n",
       "      <td>...</td>\n",
       "      <td>...</td>\n",
       "      <td>...</td>\n",
       "    </tr>\n",
       "    <tr>\n",
       "      <th>5142</th>\n",
       "      <td>5142</td>\n",
       "      <td>63</td>\n",
       "      <td>F</td>\n",
       "      <td>True</td>\n",
       "      <td>2022-05-28 16:56:00</td>\n",
       "      <td>2022-05-28 22:01:00</td>\n",
       "      <td>2022-06-10 05:52:00</td>\n",
       "      <td>2022-05-28 17:08:00</td>\n",
       "      <td>NaN</td>\n",
       "      <td>2022-05-28 22:29:00</td>\n",
       "      <td>2022-05-30 01:02:00</td>\n",
       "      <td>2022-05-30 01:02:00</td>\n",
       "      <td>2022-05-29 00:24:00</td>\n",
       "      <td>2022-05-29 04:57:00</td>\n",
       "      <td>NaN</td>\n",
       "      <td>2022-05-30 22:36:00</td>\n",
       "      <td>2022-06-03 22:25:00</td>\n",
       "      <td>2022-06-10 05:20:00</td>\n",
       "      <td>2022-06-04 15:42:00</td>\n",
       "    </tr>\n",
       "    <tr>\n",
       "      <th>5143</th>\n",
       "      <td>5143</td>\n",
       "      <td>75</td>\n",
       "      <td>F</td>\n",
       "      <td>True</td>\n",
       "      <td>2023-10-22 21:36:00</td>\n",
       "      <td>2023-10-23 03:07:00</td>\n",
       "      <td>2023-10-31 19:25:00</td>\n",
       "      <td>2023-10-22 21:58:00</td>\n",
       "      <td>NaN</td>\n",
       "      <td>NaN</td>\n",
       "      <td>NaN</td>\n",
       "      <td>2023-10-23 06:14:00</td>\n",
       "      <td>2023-10-24 23:38:00</td>\n",
       "      <td>2023-10-23 06:27:00</td>\n",
       "      <td>2023-10-26 18:11:00</td>\n",
       "      <td>2023-10-31 19:10:00</td>\n",
       "      <td>2023-10-26 00:18:00</td>\n",
       "      <td>NaN</td>\n",
       "      <td>2023-10-27 16:14:00</td>\n",
       "    </tr>\n",
       "    <tr>\n",
       "      <th>5144</th>\n",
       "      <td>5144</td>\n",
       "      <td>87</td>\n",
       "      <td>M</td>\n",
       "      <td>True</td>\n",
       "      <td>2023-12-11 00:52:00</td>\n",
       "      <td>2023-12-11 04:36:00</td>\n",
       "      <td>2023-12-18 19:59:00</td>\n",
       "      <td>2023-12-11 01:04:00</td>\n",
       "      <td>NaN</td>\n",
       "      <td>2023-12-11 04:39:00</td>\n",
       "      <td>2023-12-13 18:35:00</td>\n",
       "      <td>2023-12-13 18:35:00</td>\n",
       "      <td>2023-12-11 05:25:00</td>\n",
       "      <td>NaN</td>\n",
       "      <td>2023-12-11 03:54:00</td>\n",
       "      <td>NaN</td>\n",
       "      <td>NaN</td>\n",
       "      <td>NaN</td>\n",
       "      <td>2023-12-12 03:03:00</td>\n",
       "    </tr>\n",
       "    <tr>\n",
       "      <th>5145</th>\n",
       "      <td>5145</td>\n",
       "      <td>69</td>\n",
       "      <td>F</td>\n",
       "      <td>False</td>\n",
       "      <td>2022-03-12 00:01:00</td>\n",
       "      <td>2022-03-12 07:49:00</td>\n",
       "      <td>2022-03-20 09:46:00</td>\n",
       "      <td>2022-03-12 00:14:00</td>\n",
       "      <td>NaN</td>\n",
       "      <td>2022-03-12 09:09:00</td>\n",
       "      <td>2022-03-13 18:34:00</td>\n",
       "      <td>2022-03-13 18:34:00</td>\n",
       "      <td>NaN</td>\n",
       "      <td>2022-03-12 09:53:00</td>\n",
       "      <td>2022-03-13 02:55:00</td>\n",
       "      <td>NaN</td>\n",
       "      <td>2022-03-13 07:40:00</td>\n",
       "      <td>NaN</td>\n",
       "      <td>2022-03-12 15:19:00</td>\n",
       "    </tr>\n",
       "    <tr>\n",
       "      <th>5146</th>\n",
       "      <td>5146</td>\n",
       "      <td>67</td>\n",
       "      <td>M</td>\n",
       "      <td>True</td>\n",
       "      <td>2023-11-24 06:47:00</td>\n",
       "      <td>2023-11-24 17:18:00</td>\n",
       "      <td>2023-12-13 10:56:00</td>\n",
       "      <td>2023-11-24 06:59:00</td>\n",
       "      <td>NaN</td>\n",
       "      <td>2023-11-24 19:01:00</td>\n",
       "      <td>2023-12-12 10:16:00</td>\n",
       "      <td>2023-12-12 10:16:00</td>\n",
       "      <td>NaN</td>\n",
       "      <td>NaN</td>\n",
       "      <td>2023-11-25 19:18:00</td>\n",
       "      <td>2023-12-03 12:28:00</td>\n",
       "      <td>2023-11-27 13:26:00</td>\n",
       "      <td>NaN</td>\n",
       "      <td>2023-11-24 18:07:00</td>\n",
       "    </tr>\n",
       "  </tbody>\n",
       "</table>\n",
       "<p>5147 rows × 19 columns</p>\n",
       "</div>"
      ],
      "text/plain": [
       "      Patient Id  Age Gender  Comorbidities  Emergency Dept Time  \\\n",
       "0              0   67      F           True  2022-06-15 19:27:00   \n",
       "1              1   75      F          False  2023-01-04 23:20:00   \n",
       "2              2   50      M          False  2022-12-28 18:33:00   \n",
       "3              3   63      M          False  2023-05-28 11:08:00   \n",
       "4              4   64      M          False  2022-01-21 19:48:00   \n",
       "...          ...  ...    ...            ...                  ...   \n",
       "5142        5142   63      F           True  2022-05-28 16:56:00   \n",
       "5143        5143   75      F           True  2023-10-22 21:36:00   \n",
       "5144        5144   87      M           True  2023-12-11 00:52:00   \n",
       "5145        5145   69      F          False  2022-03-12 00:01:00   \n",
       "5146        5146   67      M           True  2023-11-24 06:47:00   \n",
       "\n",
       "           Admission Time       Discharge Time         CT Scan Time TPA Time  \\\n",
       "0     2022-06-16 03:57:00  2022-07-04 07:07:00  2022-06-15 19:45:00      NaN   \n",
       "1     2023-01-05 02:13:00  2023-01-10 10:59:00  2023-01-04 23:33:00      NaN   \n",
       "2     2022-12-29 03:20:00  2023-01-06 08:01:00  2022-12-28 18:47:00      NaN   \n",
       "3     2023-05-28 13:35:00  2023-06-26 06:38:00  2023-05-28 11:21:00      NaN   \n",
       "4     2022-01-22 05:16:00  2022-02-01 20:01:00  2022-01-21 20:01:00      NaN   \n",
       "...                   ...                  ...                  ...      ...   \n",
       "5142  2022-05-28 22:01:00  2022-06-10 05:52:00  2022-05-28 17:08:00      NaN   \n",
       "5143  2023-10-23 03:07:00  2023-10-31 19:25:00  2023-10-22 21:58:00      NaN   \n",
       "5144  2023-12-11 04:36:00  2023-12-18 19:59:00  2023-12-11 01:04:00      NaN   \n",
       "5145  2022-03-12 07:49:00  2022-03-20 09:46:00  2022-03-12 00:14:00      NaN   \n",
       "5146  2023-11-24 17:18:00  2023-12-13 10:56:00  2023-11-24 06:59:00      NaN   \n",
       "\n",
       "         ICU Arrival Time    ICU Checkout Time Neurology Ward Arrival Time  \\\n",
       "0                     NaN                  NaN         2022-06-16 05:01:00   \n",
       "1     2023-01-05 02:14:00  2023-01-06 09:44:00         2023-01-06 09:44:00   \n",
       "2     2023-01-01 08:51:00  2023-01-02 22:15:00         2023-01-02 22:15:00   \n",
       "3                     NaN                  NaN         2023-06-24 18:28:00   \n",
       "4                     NaN                  NaN         2022-01-22 06:43:00   \n",
       "...                   ...                  ...                         ...   \n",
       "5142  2022-05-28 22:29:00  2022-05-30 01:02:00         2022-05-30 01:02:00   \n",
       "5143                  NaN                  NaN         2023-10-23 06:14:00   \n",
       "5144  2023-12-11 04:39:00  2023-12-13 18:35:00         2023-12-13 18:35:00   \n",
       "5145  2022-03-12 09:09:00  2022-03-13 18:34:00         2022-03-13 18:34:00   \n",
       "5146  2023-11-24 19:01:00  2023-12-12 10:16:00         2023-12-12 10:16:00   \n",
       "\n",
       "     Occupational Therapist Visit Speech Pathologist Visit  \\\n",
       "0             2022-06-18 23:28:00      2022-07-04 06:26:00   \n",
       "1                             NaN      2023-01-07 01:21:00   \n",
       "2                             NaN                      NaN   \n",
       "3             2023-05-29 05:56:00      2023-06-07 13:40:00   \n",
       "4             2022-02-01 19:30:00                      NaN   \n",
       "...                           ...                      ...   \n",
       "5142          2022-05-29 00:24:00      2022-05-29 04:57:00   \n",
       "5143          2023-10-24 23:38:00      2023-10-23 06:27:00   \n",
       "5144          2023-12-11 05:25:00                      NaN   \n",
       "5145                          NaN      2022-03-12 09:53:00   \n",
       "5146                          NaN                      NaN   \n",
       "\n",
       "     Physiotherapist Visit      Dietitian Visit  Social Worker Visit  \\\n",
       "0      2022-06-29 06:35:00                  NaN                  NaN   \n",
       "1      2023-01-05 03:13:00                  NaN  2023-01-06 00:39:00   \n",
       "2                      NaN  2023-01-06 07:42:00  2023-01-01 04:57:00   \n",
       "3      2023-06-01 08:31:00  2023-06-07 23:12:00  2023-05-30 11:21:00   \n",
       "4                      NaN                  NaN  2022-01-22 06:57:00   \n",
       "...                    ...                  ...                  ...   \n",
       "5142                   NaN  2022-05-30 22:36:00  2022-06-03 22:25:00   \n",
       "5143   2023-10-26 18:11:00  2023-10-31 19:10:00  2023-10-26 00:18:00   \n",
       "5144   2023-12-11 03:54:00                  NaN                  NaN   \n",
       "5145   2022-03-13 02:55:00                  NaN  2022-03-13 07:40:00   \n",
       "5146   2023-11-25 19:18:00  2023-12-03 12:28:00  2023-11-27 13:26:00   \n",
       "\n",
       "       Cardiologist Visit    Neurologist Visit  \n",
       "0                     NaN  2022-06-20 06:47:00  \n",
       "1                     NaN  2023-01-06 06:17:00  \n",
       "2                     NaN  2022-12-29 22:37:00  \n",
       "3                     NaN  2023-05-29 11:59:00  \n",
       "4                     NaN  2022-01-26 21:26:00  \n",
       "...                   ...                  ...  \n",
       "5142  2022-06-10 05:20:00  2022-06-04 15:42:00  \n",
       "5143                  NaN  2023-10-27 16:14:00  \n",
       "5144                  NaN  2023-12-12 03:03:00  \n",
       "5145                  NaN  2022-03-12 15:19:00  \n",
       "5146                  NaN  2023-11-24 18:07:00  \n",
       "\n",
       "[5147 rows x 19 columns]"
      ]
     },
     "execution_count": 65,
     "metadata": {},
     "output_type": "execute_result"
    }
   ],
   "source": [
    "import pandas as pd\n",
    "df = pd.read_csv('stroke.csv')\n",
    "df"
   ]
  },
  {
   "cell_type": "code",
   "execution_count": 66,
   "id": "93d7bf02",
   "metadata": {},
   "outputs": [],
   "source": [
    "discharge_time = df['Discharge Time']\n",
    "discharge_time = pd.to_datetime(discharge_time)\n",
    "\n",
    "admission_time = df['Admission Time']\n",
    "admission_time = pd.to_datetime(admission_time)\n",
    "\n",
    "df['Admit Duration'] = discharge_time - admission_time"
   ]
  },
  {
   "cell_type": "code",
   "execution_count": 67,
   "id": "0047d8b1",
   "metadata": {},
   "outputs": [],
   "source": [
    "emergency_time = df['Emergency Dept Time']\n",
    "emergency_time = pd.to_datetime(emergency_time)\n",
    "\n",
    "df['Emergency Response Time'] = admission_time - emergency_time"
   ]
  },
  {
   "cell_type": "code",
   "execution_count": 68,
   "id": "5b47a856",
   "metadata": {},
   "outputs": [
    {
     "data": {
      "text/html": [
       "<div>\n",
       "<style scoped>\n",
       "    .dataframe tbody tr th:only-of-type {\n",
       "        vertical-align: middle;\n",
       "    }\n",
       "\n",
       "    .dataframe tbody tr th {\n",
       "        vertical-align: top;\n",
       "    }\n",
       "\n",
       "    .dataframe thead th {\n",
       "        text-align: right;\n",
       "    }\n",
       "</style>\n",
       "<table border=\"1\" class=\"dataframe\">\n",
       "  <thead>\n",
       "    <tr style=\"text-align: right;\">\n",
       "      <th></th>\n",
       "      <th>Patient Id</th>\n",
       "      <th>Age</th>\n",
       "      <th>Gender</th>\n",
       "      <th>Comorbidities</th>\n",
       "      <th>Emergency Dept Time</th>\n",
       "      <th>Admission Time</th>\n",
       "      <th>Discharge Time</th>\n",
       "      <th>CT Scan Time</th>\n",
       "      <th>TPA Time</th>\n",
       "      <th>ICU Arrival Time</th>\n",
       "      <th>...</th>\n",
       "      <th>Neurology Ward Arrival Time</th>\n",
       "      <th>Occupational Therapist Visit</th>\n",
       "      <th>Speech Pathologist Visit</th>\n",
       "      <th>Physiotherapist Visit</th>\n",
       "      <th>Dietitian Visit</th>\n",
       "      <th>Social Worker Visit</th>\n",
       "      <th>Cardiologist Visit</th>\n",
       "      <th>Neurologist Visit</th>\n",
       "      <th>Admit Duration</th>\n",
       "      <th>Emergency Response Time</th>\n",
       "    </tr>\n",
       "  </thead>\n",
       "  <tbody>\n",
       "    <tr>\n",
       "      <th>0</th>\n",
       "      <td>0</td>\n",
       "      <td>67</td>\n",
       "      <td>F</td>\n",
       "      <td>True</td>\n",
       "      <td>2022-06-15 19:27:00</td>\n",
       "      <td>2022-06-16 03:57:00</td>\n",
       "      <td>2022-07-04 07:07:00</td>\n",
       "      <td>2022-06-15 19:45:00</td>\n",
       "      <td>NaN</td>\n",
       "      <td>NaN</td>\n",
       "      <td>...</td>\n",
       "      <td>2022-06-16 05:01:00</td>\n",
       "      <td>2022-06-18 23:28:00</td>\n",
       "      <td>2022-07-04 06:26:00</td>\n",
       "      <td>2022-06-29 06:35:00</td>\n",
       "      <td>NaN</td>\n",
       "      <td>NaN</td>\n",
       "      <td>NaN</td>\n",
       "      <td>2022-06-20 06:47:00</td>\n",
       "      <td>18 days 03:10:00</td>\n",
       "      <td>0 days 08:30:00</td>\n",
       "    </tr>\n",
       "    <tr>\n",
       "      <th>1</th>\n",
       "      <td>1</td>\n",
       "      <td>75</td>\n",
       "      <td>F</td>\n",
       "      <td>False</td>\n",
       "      <td>2023-01-04 23:20:00</td>\n",
       "      <td>2023-01-05 02:13:00</td>\n",
       "      <td>2023-01-10 10:59:00</td>\n",
       "      <td>2023-01-04 23:33:00</td>\n",
       "      <td>NaN</td>\n",
       "      <td>2023-01-05 02:14:00</td>\n",
       "      <td>...</td>\n",
       "      <td>2023-01-06 09:44:00</td>\n",
       "      <td>NaN</td>\n",
       "      <td>2023-01-07 01:21:00</td>\n",
       "      <td>2023-01-05 03:13:00</td>\n",
       "      <td>NaN</td>\n",
       "      <td>2023-01-06 00:39:00</td>\n",
       "      <td>NaN</td>\n",
       "      <td>2023-01-06 06:17:00</td>\n",
       "      <td>5 days 08:46:00</td>\n",
       "      <td>0 days 02:53:00</td>\n",
       "    </tr>\n",
       "    <tr>\n",
       "      <th>2</th>\n",
       "      <td>2</td>\n",
       "      <td>50</td>\n",
       "      <td>M</td>\n",
       "      <td>False</td>\n",
       "      <td>2022-12-28 18:33:00</td>\n",
       "      <td>2022-12-29 03:20:00</td>\n",
       "      <td>2023-01-06 08:01:00</td>\n",
       "      <td>2022-12-28 18:47:00</td>\n",
       "      <td>NaN</td>\n",
       "      <td>2023-01-01 08:51:00</td>\n",
       "      <td>...</td>\n",
       "      <td>2023-01-02 22:15:00</td>\n",
       "      <td>NaN</td>\n",
       "      <td>NaN</td>\n",
       "      <td>NaN</td>\n",
       "      <td>2023-01-06 07:42:00</td>\n",
       "      <td>2023-01-01 04:57:00</td>\n",
       "      <td>NaN</td>\n",
       "      <td>2022-12-29 22:37:00</td>\n",
       "      <td>8 days 04:41:00</td>\n",
       "      <td>0 days 08:47:00</td>\n",
       "    </tr>\n",
       "    <tr>\n",
       "      <th>3</th>\n",
       "      <td>3</td>\n",
       "      <td>63</td>\n",
       "      <td>M</td>\n",
       "      <td>False</td>\n",
       "      <td>2023-05-28 11:08:00</td>\n",
       "      <td>2023-05-28 13:35:00</td>\n",
       "      <td>2023-06-26 06:38:00</td>\n",
       "      <td>2023-05-28 11:21:00</td>\n",
       "      <td>NaN</td>\n",
       "      <td>NaN</td>\n",
       "      <td>...</td>\n",
       "      <td>2023-06-24 18:28:00</td>\n",
       "      <td>2023-05-29 05:56:00</td>\n",
       "      <td>2023-06-07 13:40:00</td>\n",
       "      <td>2023-06-01 08:31:00</td>\n",
       "      <td>2023-06-07 23:12:00</td>\n",
       "      <td>2023-05-30 11:21:00</td>\n",
       "      <td>NaN</td>\n",
       "      <td>2023-05-29 11:59:00</td>\n",
       "      <td>28 days 17:03:00</td>\n",
       "      <td>0 days 02:27:00</td>\n",
       "    </tr>\n",
       "    <tr>\n",
       "      <th>4</th>\n",
       "      <td>4</td>\n",
       "      <td>64</td>\n",
       "      <td>M</td>\n",
       "      <td>False</td>\n",
       "      <td>2022-01-21 19:48:00</td>\n",
       "      <td>2022-01-22 05:16:00</td>\n",
       "      <td>2022-02-01 20:01:00</td>\n",
       "      <td>2022-01-21 20:01:00</td>\n",
       "      <td>NaN</td>\n",
       "      <td>NaN</td>\n",
       "      <td>...</td>\n",
       "      <td>2022-01-22 06:43:00</td>\n",
       "      <td>2022-02-01 19:30:00</td>\n",
       "      <td>NaN</td>\n",
       "      <td>NaN</td>\n",
       "      <td>NaN</td>\n",
       "      <td>2022-01-22 06:57:00</td>\n",
       "      <td>NaN</td>\n",
       "      <td>2022-01-26 21:26:00</td>\n",
       "      <td>10 days 14:45:00</td>\n",
       "      <td>0 days 09:28:00</td>\n",
       "    </tr>\n",
       "    <tr>\n",
       "      <th>...</th>\n",
       "      <td>...</td>\n",
       "      <td>...</td>\n",
       "      <td>...</td>\n",
       "      <td>...</td>\n",
       "      <td>...</td>\n",
       "      <td>...</td>\n",
       "      <td>...</td>\n",
       "      <td>...</td>\n",
       "      <td>...</td>\n",
       "      <td>...</td>\n",
       "      <td>...</td>\n",
       "      <td>...</td>\n",
       "      <td>...</td>\n",
       "      <td>...</td>\n",
       "      <td>...</td>\n",
       "      <td>...</td>\n",
       "      <td>...</td>\n",
       "      <td>...</td>\n",
       "      <td>...</td>\n",
       "      <td>...</td>\n",
       "      <td>...</td>\n",
       "    </tr>\n",
       "    <tr>\n",
       "      <th>5142</th>\n",
       "      <td>5142</td>\n",
       "      <td>63</td>\n",
       "      <td>F</td>\n",
       "      <td>True</td>\n",
       "      <td>2022-05-28 16:56:00</td>\n",
       "      <td>2022-05-28 22:01:00</td>\n",
       "      <td>2022-06-10 05:52:00</td>\n",
       "      <td>2022-05-28 17:08:00</td>\n",
       "      <td>NaN</td>\n",
       "      <td>2022-05-28 22:29:00</td>\n",
       "      <td>...</td>\n",
       "      <td>2022-05-30 01:02:00</td>\n",
       "      <td>2022-05-29 00:24:00</td>\n",
       "      <td>2022-05-29 04:57:00</td>\n",
       "      <td>NaN</td>\n",
       "      <td>2022-05-30 22:36:00</td>\n",
       "      <td>2022-06-03 22:25:00</td>\n",
       "      <td>2022-06-10 05:20:00</td>\n",
       "      <td>2022-06-04 15:42:00</td>\n",
       "      <td>12 days 07:51:00</td>\n",
       "      <td>0 days 05:05:00</td>\n",
       "    </tr>\n",
       "    <tr>\n",
       "      <th>5143</th>\n",
       "      <td>5143</td>\n",
       "      <td>75</td>\n",
       "      <td>F</td>\n",
       "      <td>True</td>\n",
       "      <td>2023-10-22 21:36:00</td>\n",
       "      <td>2023-10-23 03:07:00</td>\n",
       "      <td>2023-10-31 19:25:00</td>\n",
       "      <td>2023-10-22 21:58:00</td>\n",
       "      <td>NaN</td>\n",
       "      <td>NaN</td>\n",
       "      <td>...</td>\n",
       "      <td>2023-10-23 06:14:00</td>\n",
       "      <td>2023-10-24 23:38:00</td>\n",
       "      <td>2023-10-23 06:27:00</td>\n",
       "      <td>2023-10-26 18:11:00</td>\n",
       "      <td>2023-10-31 19:10:00</td>\n",
       "      <td>2023-10-26 00:18:00</td>\n",
       "      <td>NaN</td>\n",
       "      <td>2023-10-27 16:14:00</td>\n",
       "      <td>8 days 16:18:00</td>\n",
       "      <td>0 days 05:31:00</td>\n",
       "    </tr>\n",
       "    <tr>\n",
       "      <th>5144</th>\n",
       "      <td>5144</td>\n",
       "      <td>87</td>\n",
       "      <td>M</td>\n",
       "      <td>True</td>\n",
       "      <td>2023-12-11 00:52:00</td>\n",
       "      <td>2023-12-11 04:36:00</td>\n",
       "      <td>2023-12-18 19:59:00</td>\n",
       "      <td>2023-12-11 01:04:00</td>\n",
       "      <td>NaN</td>\n",
       "      <td>2023-12-11 04:39:00</td>\n",
       "      <td>...</td>\n",
       "      <td>2023-12-13 18:35:00</td>\n",
       "      <td>2023-12-11 05:25:00</td>\n",
       "      <td>NaN</td>\n",
       "      <td>2023-12-11 03:54:00</td>\n",
       "      <td>NaN</td>\n",
       "      <td>NaN</td>\n",
       "      <td>NaN</td>\n",
       "      <td>2023-12-12 03:03:00</td>\n",
       "      <td>7 days 15:23:00</td>\n",
       "      <td>0 days 03:44:00</td>\n",
       "    </tr>\n",
       "    <tr>\n",
       "      <th>5145</th>\n",
       "      <td>5145</td>\n",
       "      <td>69</td>\n",
       "      <td>F</td>\n",
       "      <td>False</td>\n",
       "      <td>2022-03-12 00:01:00</td>\n",
       "      <td>2022-03-12 07:49:00</td>\n",
       "      <td>2022-03-20 09:46:00</td>\n",
       "      <td>2022-03-12 00:14:00</td>\n",
       "      <td>NaN</td>\n",
       "      <td>2022-03-12 09:09:00</td>\n",
       "      <td>...</td>\n",
       "      <td>2022-03-13 18:34:00</td>\n",
       "      <td>NaN</td>\n",
       "      <td>2022-03-12 09:53:00</td>\n",
       "      <td>2022-03-13 02:55:00</td>\n",
       "      <td>NaN</td>\n",
       "      <td>2022-03-13 07:40:00</td>\n",
       "      <td>NaN</td>\n",
       "      <td>2022-03-12 15:19:00</td>\n",
       "      <td>8 days 01:57:00</td>\n",
       "      <td>0 days 07:48:00</td>\n",
       "    </tr>\n",
       "    <tr>\n",
       "      <th>5146</th>\n",
       "      <td>5146</td>\n",
       "      <td>67</td>\n",
       "      <td>M</td>\n",
       "      <td>True</td>\n",
       "      <td>2023-11-24 06:47:00</td>\n",
       "      <td>2023-11-24 17:18:00</td>\n",
       "      <td>2023-12-13 10:56:00</td>\n",
       "      <td>2023-11-24 06:59:00</td>\n",
       "      <td>NaN</td>\n",
       "      <td>2023-11-24 19:01:00</td>\n",
       "      <td>...</td>\n",
       "      <td>2023-12-12 10:16:00</td>\n",
       "      <td>NaN</td>\n",
       "      <td>NaN</td>\n",
       "      <td>2023-11-25 19:18:00</td>\n",
       "      <td>2023-12-03 12:28:00</td>\n",
       "      <td>2023-11-27 13:26:00</td>\n",
       "      <td>NaN</td>\n",
       "      <td>2023-11-24 18:07:00</td>\n",
       "      <td>18 days 17:38:00</td>\n",
       "      <td>0 days 10:31:00</td>\n",
       "    </tr>\n",
       "  </tbody>\n",
       "</table>\n",
       "<p>5147 rows × 21 columns</p>\n",
       "</div>"
      ],
      "text/plain": [
       "      Patient Id  Age Gender  Comorbidities  Emergency Dept Time  \\\n",
       "0              0   67      F           True  2022-06-15 19:27:00   \n",
       "1              1   75      F          False  2023-01-04 23:20:00   \n",
       "2              2   50      M          False  2022-12-28 18:33:00   \n",
       "3              3   63      M          False  2023-05-28 11:08:00   \n",
       "4              4   64      M          False  2022-01-21 19:48:00   \n",
       "...          ...  ...    ...            ...                  ...   \n",
       "5142        5142   63      F           True  2022-05-28 16:56:00   \n",
       "5143        5143   75      F           True  2023-10-22 21:36:00   \n",
       "5144        5144   87      M           True  2023-12-11 00:52:00   \n",
       "5145        5145   69      F          False  2022-03-12 00:01:00   \n",
       "5146        5146   67      M           True  2023-11-24 06:47:00   \n",
       "\n",
       "           Admission Time       Discharge Time         CT Scan Time TPA Time  \\\n",
       "0     2022-06-16 03:57:00  2022-07-04 07:07:00  2022-06-15 19:45:00      NaN   \n",
       "1     2023-01-05 02:13:00  2023-01-10 10:59:00  2023-01-04 23:33:00      NaN   \n",
       "2     2022-12-29 03:20:00  2023-01-06 08:01:00  2022-12-28 18:47:00      NaN   \n",
       "3     2023-05-28 13:35:00  2023-06-26 06:38:00  2023-05-28 11:21:00      NaN   \n",
       "4     2022-01-22 05:16:00  2022-02-01 20:01:00  2022-01-21 20:01:00      NaN   \n",
       "...                   ...                  ...                  ...      ...   \n",
       "5142  2022-05-28 22:01:00  2022-06-10 05:52:00  2022-05-28 17:08:00      NaN   \n",
       "5143  2023-10-23 03:07:00  2023-10-31 19:25:00  2023-10-22 21:58:00      NaN   \n",
       "5144  2023-12-11 04:36:00  2023-12-18 19:59:00  2023-12-11 01:04:00      NaN   \n",
       "5145  2022-03-12 07:49:00  2022-03-20 09:46:00  2022-03-12 00:14:00      NaN   \n",
       "5146  2023-11-24 17:18:00  2023-12-13 10:56:00  2023-11-24 06:59:00      NaN   \n",
       "\n",
       "         ICU Arrival Time  ... Neurology Ward Arrival Time  \\\n",
       "0                     NaN  ...         2022-06-16 05:01:00   \n",
       "1     2023-01-05 02:14:00  ...         2023-01-06 09:44:00   \n",
       "2     2023-01-01 08:51:00  ...         2023-01-02 22:15:00   \n",
       "3                     NaN  ...         2023-06-24 18:28:00   \n",
       "4                     NaN  ...         2022-01-22 06:43:00   \n",
       "...                   ...  ...                         ...   \n",
       "5142  2022-05-28 22:29:00  ...         2022-05-30 01:02:00   \n",
       "5143                  NaN  ...         2023-10-23 06:14:00   \n",
       "5144  2023-12-11 04:39:00  ...         2023-12-13 18:35:00   \n",
       "5145  2022-03-12 09:09:00  ...         2022-03-13 18:34:00   \n",
       "5146  2023-11-24 19:01:00  ...         2023-12-12 10:16:00   \n",
       "\n",
       "     Occupational Therapist Visit Speech Pathologist Visit  \\\n",
       "0             2022-06-18 23:28:00      2022-07-04 06:26:00   \n",
       "1                             NaN      2023-01-07 01:21:00   \n",
       "2                             NaN                      NaN   \n",
       "3             2023-05-29 05:56:00      2023-06-07 13:40:00   \n",
       "4             2022-02-01 19:30:00                      NaN   \n",
       "...                           ...                      ...   \n",
       "5142          2022-05-29 00:24:00      2022-05-29 04:57:00   \n",
       "5143          2023-10-24 23:38:00      2023-10-23 06:27:00   \n",
       "5144          2023-12-11 05:25:00                      NaN   \n",
       "5145                          NaN      2022-03-12 09:53:00   \n",
       "5146                          NaN                      NaN   \n",
       "\n",
       "     Physiotherapist Visit      Dietitian Visit  Social Worker Visit  \\\n",
       "0      2022-06-29 06:35:00                  NaN                  NaN   \n",
       "1      2023-01-05 03:13:00                  NaN  2023-01-06 00:39:00   \n",
       "2                      NaN  2023-01-06 07:42:00  2023-01-01 04:57:00   \n",
       "3      2023-06-01 08:31:00  2023-06-07 23:12:00  2023-05-30 11:21:00   \n",
       "4                      NaN                  NaN  2022-01-22 06:57:00   \n",
       "...                    ...                  ...                  ...   \n",
       "5142                   NaN  2022-05-30 22:36:00  2022-06-03 22:25:00   \n",
       "5143   2023-10-26 18:11:00  2023-10-31 19:10:00  2023-10-26 00:18:00   \n",
       "5144   2023-12-11 03:54:00                  NaN                  NaN   \n",
       "5145   2022-03-13 02:55:00                  NaN  2022-03-13 07:40:00   \n",
       "5146   2023-11-25 19:18:00  2023-12-03 12:28:00  2023-11-27 13:26:00   \n",
       "\n",
       "       Cardiologist Visit    Neurologist Visit   Admit Duration  \\\n",
       "0                     NaN  2022-06-20 06:47:00 18 days 03:10:00   \n",
       "1                     NaN  2023-01-06 06:17:00  5 days 08:46:00   \n",
       "2                     NaN  2022-12-29 22:37:00  8 days 04:41:00   \n",
       "3                     NaN  2023-05-29 11:59:00 28 days 17:03:00   \n",
       "4                     NaN  2022-01-26 21:26:00 10 days 14:45:00   \n",
       "...                   ...                  ...              ...   \n",
       "5142  2022-06-10 05:20:00  2022-06-04 15:42:00 12 days 07:51:00   \n",
       "5143                  NaN  2023-10-27 16:14:00  8 days 16:18:00   \n",
       "5144                  NaN  2023-12-12 03:03:00  7 days 15:23:00   \n",
       "5145                  NaN  2022-03-12 15:19:00  8 days 01:57:00   \n",
       "5146                  NaN  2023-11-24 18:07:00 18 days 17:38:00   \n",
       "\n",
       "     Emergency Response Time  \n",
       "0            0 days 08:30:00  \n",
       "1            0 days 02:53:00  \n",
       "2            0 days 08:47:00  \n",
       "3            0 days 02:27:00  \n",
       "4            0 days 09:28:00  \n",
       "...                      ...  \n",
       "5142         0 days 05:05:00  \n",
       "5143         0 days 05:31:00  \n",
       "5144         0 days 03:44:00  \n",
       "5145         0 days 07:48:00  \n",
       "5146         0 days 10:31:00  \n",
       "\n",
       "[5147 rows x 21 columns]"
      ]
     },
     "execution_count": 68,
     "metadata": {},
     "output_type": "execute_result"
    }
   ],
   "source": [
    "df"
   ]
  },
  {
   "cell_type": "code",
   "execution_count": 88,
   "id": "0120aa88",
   "metadata": {},
   "outputs": [
    {
     "data": {
      "text/plain": [
       "0       30600.0\n",
       "6       24600.0\n",
       "7       17100.0\n",
       "8       10560.0\n",
       "10      24240.0\n",
       "         ...   \n",
       "5141    42480.0\n",
       "5142    18300.0\n",
       "5143    19860.0\n",
       "5144    13440.0\n",
       "5146    37860.0\n",
       "Name: Emergency Response Time, Length: 3036, dtype: float64"
      ]
     },
     "execution_count": 88,
     "metadata": {},
     "output_type": "execute_result"
    }
   ],
   "source": [
    "df_com = df[df['Comorbidities']==True]\n",
    "df_com_m = df[(df['Comorbidities'] == True) & (df['Gender'] == 'M')]\n",
    "df_com_f = df[(df['Comorbidities'] == True) & (df['Gender'] == 'F')]\n",
    "df_com_m_not = df[(df['Comorbidities'] == False) & (df['Gender'] == 'M')]\n",
    "df_com_f_not = df[(df['Comorbidities'] == False) & (df['Gender'] == 'F')]\n",
    "df_com_not = df[df['Comorbidities']==False]\n",
    "df_com['Emergency Response Time'].dt.total_seconds()"
   ]
  },
  {
   "cell_type": "code",
   "execution_count": 70,
   "id": "60ef9d34",
   "metadata": {},
   "outputs": [
    {
     "data": {
      "text/plain": [
       "0      18 days 03:10:00\n",
       "6      12 days 08:31:00\n",
       "7      26 days 11:37:00\n",
       "8       6 days 22:03:00\n",
       "10     25 days 17:24:00\n",
       "             ...       \n",
       "5141   39 days 18:31:00\n",
       "5142   12 days 07:51:00\n",
       "5143    8 days 16:18:00\n",
       "5144    7 days 15:23:00\n",
       "5146   18 days 17:38:00\n",
       "Name: Admit Duration, Length: 3036, dtype: timedelta64[ns]"
      ]
     },
     "execution_count": 70,
     "metadata": {},
     "output_type": "execute_result"
    }
   ],
   "source": [
    "df_com['Admit Duration']"
   ]
  },
  {
   "cell_type": "code",
   "execution_count": 80,
   "id": "b2482f73",
   "metadata": {},
   "outputs": [
    {
     "data": {
      "text/plain": [
       "2       31620.0\n",
       "3        8820.0\n",
       "4       34080.0\n",
       "6       24600.0\n",
       "8       10560.0\n",
       "         ...   \n",
       "5132    11460.0\n",
       "5136    73920.0\n",
       "5137    22980.0\n",
       "5144    13440.0\n",
       "5146    37860.0\n",
       "Name: Emergency Response Time, Length: 3183, dtype: float64"
      ]
     },
     "execution_count": 80,
     "metadata": {},
     "output_type": "execute_result"
    }
   ],
   "source": [
    "df_gen_m = df[df['Gender']=='M']\n",
    "df_gen_f = df[df['Gender']=='F']\n",
    "df_gen_m['Emergency Response Time'].dt.total_seconds()"
   ]
  },
  {
   "cell_type": "code",
   "execution_count": 93,
   "id": "71f7031e",
   "metadata": {},
   "outputs": [
    {
     "data": {
      "text/plain": [
       "<matplotlib.legend.Legend at 0x254a5b06930>"
      ]
     },
     "execution_count": 93,
     "metadata": {},
     "output_type": "execute_result"
    },
    {
     "data": {
      "image/png": "[encoded data removed]",
      "text/plain": [
       "<Figure size 640x480 with 1 Axes>"
      ]
     },
     "metadata": {},
     "output_type": "display_data"
    }
   ],
   "source": [
    "import seaborn as sns\n",
    "import matplotlib.pyplot as plt\n",
    "\n",
    "# sns.histplot(df_com['Emergency Response Time'].dt.total_seconds(), label='Emergency Comorbodities')\n",
    "# sns.histplot(df_com_not['Emergency Response Time'].dt.total_seconds(), label='Emergency No Comorbodities')\n",
    "# sns.histplot(df_com_m['Emergency Response Time'].dt.total_seconds(), label='Emergency Male')\n",
    "# sns.histplot(df_com_m['Emergency Response Time'].dt.total_seconds(), label='Emergency Male')\n",
    "sns.histplot(df_com_m['Admit Duration'].dt.total_seconds(), label='Male Comorbidities', element=\"step\")\n",
    "sns.histplot(df_com_m_not['Admit Duration'].dt.total_seconds(), label='Male Non Comorbidities', element=\"step\")\n",
    "# sns.histplot(df_com_f['Admit Duration'].dt.total_seconds(), label='Female Comorbidities')\n",
    "# sns.histplot(df_com_f_not['Admit Duration'].dt.total_seconds(), label='Female Comorbodities')\n",
    "# sns.histplot(df_gen_m['Admit Duration'].dt.total_seconds(), label='Admit Male')\n",
    "# sns.histplot(df_gen_f['Admit Duration'].dt.total_seconds(), label='Admit Female')\n",
    "# sns.histplot(df_com['Admit Duration'].dt.total_seconds(), label='Admit Comorbodities')\n",
    "# sns.histplot(df_com_not['Admit Duration'].dt.total_seconds(), label='Admit No Comorbodities')\n",
    "plt.legend()"
   ]
  },
  {
   "cell_type": "code",
   "execution_count": 18,
   "id": "cec0841d-7040-48ab-9d78-86fc84c64586",
   "metadata": {},
   "outputs": [
    {
     "data": {
      "text/plain": [
       "0      2022-06-20 06:47:00\n",
       "1      2023-01-06 06:17:00\n",
       "2      2022-12-29 22:37:00\n",
       "3      2023-05-29 11:59:00\n",
       "4      2022-01-26 21:26:00\n",
       "               ...        \n",
       "5142   2022-06-04 15:42:00\n",
       "5143   2023-10-27 16:14:00\n",
       "5144   2023-12-12 03:03:00\n",
       "5145   2022-03-12 15:19:00\n",
       "5146   2023-11-24 18:07:00\n",
       "Name: Neurologist Visit, Length: 5147, dtype: datetime64[ns]"
      ]
     },
     "execution_count": 18,
     "metadata": {},
     "output_type": "execute_result"
    }
   ],
   "source": [
    "n = pd.to_datetime(df['Neurologist Visit'])\n",
    "n"
   ]
  },
  {
   "cell_type": "code",
   "execution_count": 5,
   "id": "4382e48d-2baa-463d-85f1-fafb4258897d",
   "metadata": {},
   "outputs": [
    {
     "data": {
      "application/vnd.plotly.v1+json": {
       "config": {
        "plotlyServerURL": "https://plot.ly"
       },
       "data": [
        {
         "hovertemplate": "Hour of the Day=%{x}<br>Number of Visits=%{y}<extra></extra>",
         "legendgroup": "",
         "line": {
          "color": "#636efa",
          "dash": "solid"
         },
         "marker": {
          "symbol": "circle"
         },
         "mode": "lines",
         "name": "",
         "orientation": "v",
         "showlegend": false,
         "type": "scatter",
         "x": [
          0,
          1,
          2,
          3,
          4,
          5,
          6,
          7,
          8,
          9,
          10,
          11,
          12,
          13,
          14,
          15,
          16,
          17,
          18,
          19,
          20,
          21,
          22,
          23
         ],
         "xaxis": "x",
         "y": [
          159,
          167,
          172,
          188,
          159,
          186,
          161,
          172,
          171,
          156,
          161,
          167,
          161,
          165,
          187,
          185,
          171,
          140,
          176,
          180,
          171,
          187,
          160,
          182
         ],
         "yaxis": "y"
        }
       ],
       "layout": {
        "autosize": true,
        "legend": {
         "tracegroupgap": 0
        },
        "template": {
         "data": {
          "bar": [
           {
            "error_x": {
             "color": "#2a3f5f"
            },
            "error_y": {
             "color": "#2a3f5f"
            },
            "marker": {
             "line": {
              "color": "#E5ECF6",
              "width": 0.5
             },
             "pattern": {
              "fillmode": "overlay",
              "size": 10,
              "solidity": 0.2
             }
            },
            "type": "bar"
           }
          ],
          "barpolar": [
           {
            "marker": {
             "line": {
              "color": "#E5ECF6",
              "width": 0.5
             },
             "pattern": {
              "fillmode": "overlay",
              "size": 10,
              "solidity": 0.2
             }
            },
            "type": "barpolar"
           }
          ],
          "carpet": [
           {
            "aaxis": {
             "endlinecolor": "#2a3f5f",
             "gridcolor": "white",
             "linecolor": "white",
             "minorgridcolor": "white",
             "startlinecolor": "#2a3f5f"
            },
            "baxis": {
             "endlinecolor": "#2a3f5f",
             "gridcolor": "white",
             "linecolor": "white",
             "minorgridcolor": "white",
             "startlinecolor": "#2a3f5f"
            },
            "type": "carpet"
           }
          ],
          "choropleth": [
           {
            "colorbar": {
             "outlinewidth": 0,
             "ticks": ""
            },
            "type": "choropleth"
           }
          ],
          "contour": [
           {
            "colorbar": {
             "outlinewidth": 0,
             "ticks": ""
            },
            "colorscale": [
             [
              0,
              "#0d0887"
             ],
             [
              0.1111111111111111,
              "#46039f"
             ],
             [
              0.2222222222222222,
              "#7201a8"
             ],
             [
              0.3333333333333333,
              "#9c179e"
             ],
             [
              0.4444444444444444,
              "#bd3786"
             ],
             [
              0.5555555555555556,
              "#d8576b"
             ],
             [
              0.6666666666666666,
              "#ed7953"
             ],
             [
              0.7777777777777778,
              "#fb9f3a"
             ],
             [
              0.8888888888888888,
              "#fdca26"
             ],
             [
              1,
              "#f0f921"
             ]
            ],
            "type": "contour"
           }
          ],
          "contourcarpet": [
           {
            "colorbar": {
             "outlinewidth": 0,
             "ticks": ""
            },
            "type": "contourcarpet"
           }
          ],
          "heatmap": [
           {
            "colorbar": {
             "outlinewidth": 0,
             "ticks": ""
            },
            "colorscale": [
             [
              0,
              "#0d0887"
             ],
             [
              0.1111111111111111,
              "#46039f"
             ],
             [
              0.2222222222222222,
              "#7201a8"
             ],
             [
              0.3333333333333333,
              "#9c179e"
             ],
             [
              0.4444444444444444,
              "#bd3786"
             ],
             [
              0.5555555555555556,
              "#d8576b"
             ],
             [
              0.6666666666666666,
              "#ed7953"
             ],
             [
              0.7777777777777778,
              "#fb9f3a"
             ],
             [
              0.8888888888888888,
              "#fdca26"
             ],
             [
              1,
              "#f0f921"
             ]
            ],
            "type": "heatmap"
           }
          ],
          "heatmapgl": [
           {
            "colorbar": {
             "outlinewidth": 0,
             "ticks": ""
            },
            "colorscale": [
             [
              0,
              "#0d0887"
             ],
             [
              0.1111111111111111,
              "#46039f"
             ],
             [
              0.2222222222222222,
              "#7201a8"
             ],
             [
              0.3333333333333333,
              "#9c179e"
             ],
             [
              0.4444444444444444,
              "#bd3786"
             ],
             [
              0.5555555555555556,
              "#d8576b"
             ],
             [
              0.6666666666666666,
              "#ed7953"
             ],
             [
              0.7777777777777778,
              "#fb9f3a"
             ],
             [
              0.8888888888888888,
              "#fdca26"
             ],
             [
              1,
              "#f0f921"
             ]
            ],
            "type": "heatmapgl"
           }
          ],
          "histogram": [
           {
            "marker": {
             "pattern": {
              "fillmode": "overlay",
              "size": 10,
              "solidity": 0.2
             }
            },
            "type": "histogram"
           }
          ],
          "histogram2d": [
           {
            "colorbar": {
             "outlinewidth": 0,
             "ticks": ""
            },
            "colorscale": [
             [
              0,
              "#0d0887"
             ],
             [
              0.1111111111111111,
              "#46039f"
             ],
             [
              0.2222222222222222,
              "#7201a8"
             ],
             [
              0.3333333333333333,
              "#9c179e"
             ],
             [
              0.4444444444444444,
              "#bd3786"
             ],
             [
              0.5555555555555556,
              "#d8576b"
             ],
             [
              0.6666666666666666,
              "#ed7953"
             ],
             [
              0.7777777777777778,
              "#fb9f3a"
             ],
             [
              0.8888888888888888,
              "#fdca26"
             ],
             [
              1,
              "#f0f921"
             ]
            ],
            "type": "histogram2d"
           }
          ],
          "histogram2dcontour": [
           {
            "colorbar": {
             "outlinewidth": 0,
             "ticks": ""
            },
            "colorscale": [
             [
              0,
              "#0d0887"
             ],
             [
              0.1111111111111111,
              "#46039f"
             ],
             [
              0.2222222222222222,
              "#7201a8"
             ],
             [
              0.3333333333333333,
              "#9c179e"
             ],
             [
              0.4444444444444444,
              "#bd3786"
             ],
             [
              0.5555555555555556,
              "#d8576b"
             ],
             [
              0.6666666666666666,
              "#ed7953"
             ],
             [
              0.7777777777777778,
              "#fb9f3a"
             ],
             [
              0.8888888888888888,
              "#fdca26"
             ],
             [
              1,
              "#f0f921"
             ]
            ],
            "type": "histogram2dcontour"
           }
          ],
          "mesh3d": [
           {
            "colorbar": {
             "outlinewidth": 0,
             "ticks": ""
            },
            "type": "mesh3d"
           }
          ],
          "parcoords": [
           {
            "line": {
             "colorbar": {
              "outlinewidth": 0,
              "ticks": ""
             }
            },
            "type": "parcoords"
           }
          ],
          "pie": [
           {
            "automargin": true,
            "type": "pie"
           }
          ],
          "scatter": [
           {
            "fillpattern": {
             "fillmode": "overlay",
             "size": 10,
             "solidity": 0.2
            },
            "type": "scatter"
           }
          ],
          "scatter3d": [
           {
            "line": {
             "colorbar": {
              "outlinewidth": 0,
              "ticks": ""
             }
            },
            "marker": {
             "colorbar": {
              "outlinewidth": 0,
              "ticks": ""
             }
            },
            "type": "scatter3d"
           }
          ],
          "scattercarpet": [
           {
            "marker": {
             "colorbar": {
              "outlinewidth": 0,
              "ticks": ""
             }
            },
            "type": "scattercarpet"
           }
          ],
          "scattergeo": [
           {
            "marker": {
             "colorbar": {
              "outlinewidth": 0,
              "ticks": ""
             }
            },
            "type": "scattergeo"
           }
          ],
          "scattergl": [
           {
            "marker": {
             "colorbar": {
              "outlinewidth": 0,
              "ticks": ""
             }
            },
            "type": "scattergl"
           }
          ],
          "scattermapbox": [
           {
            "marker": {
             "colorbar": {
              "outlinewidth": 0,
              "ticks": ""
             }
            },
            "type": "scattermapbox"
           }
          ],
          "scatterpolar": [
           {
            "marker": {
             "colorbar": {
              "outlinewidth": 0,
              "ticks": ""
             }
            },
            "type": "scatterpolar"
           }
          ],
          "scatterpolargl": [
           {
            "marker": {
             "colorbar": {
              "outlinewidth": 0,
              "ticks": ""
             }
            },
            "type": "scatterpolargl"
           }
          ],
          "scatterternary": [
           {
            "marker": {
             "colorbar": {
              "outlinewidth": 0,
              "ticks": ""
             }
            },
            "type": "scatterternary"
           }
          ],
          "surface": [
           {
            "colorbar": {
             "outlinewidth": 0,
             "ticks": ""
            },
            "colorscale": [
             [
              0,
              "#0d0887"
             ],
             [
              0.1111111111111111,
              "#46039f"
             ],
             [
              0.2222222222222222,
              "#7201a8"
             ],
             [
              0.3333333333333333,
              "#9c179e"
             ],
             [
              0.4444444444444444,
              "#bd3786"
             ],
             [
              0.5555555555555556,
              "#d8576b"
             ],
             [
              0.6666666666666666,
              "#ed7953"
             ],
             [
              0.7777777777777778,
              "#fb9f3a"
             ],
             [
              0.8888888888888888,
              "#fdca26"
             ],
             [
              1,
              "#f0f921"
             ]
            ],
            "type": "surface"
           }
          ],
          "table": [
           {
            "cells": {
             "fill": {
              "color": "#EBF0F8"
             },
             "line": {
              "color": "white"
             }
            },
            "header": {
             "fill": {
              "color": "#C8D4E3"
             },
             "line": {
              "color": "white"
             }
            },
            "type": "table"
           }
          ]
         },
         "layout": {
          "annotationdefaults": {
           "arrowcolor": "#2a3f5f",
           "arrowhead": 0,
           "arrowwidth": 1
          },
          "autotypenumbers": "strict",
          "coloraxis": {
           "colorbar": {
            "outlinewidth": 0,
            "ticks": ""
           }
          },
          "colorscale": {
           "diverging": [
            [
             0,
             "#8e0152"
            ],
            [
             0.1,
             "#c51b7d"
            ],
            [
             0.2,
             "#de77ae"
            ],
            [
             0.3,
             "#f1b6da"
            ],
            [
             0.4,
             "#fde0ef"
            ],
            [
             0.5,
             "#f7f7f7"
            ],
            [
             0.6,
             "#e6f5d0"
            ],
            [
             0.7,
             "#b8e186"
            ],
            [
             0.8,
             "#7fbc41"
            ],
            [
             0.9,
             "#4d9221"
            ],
            [
             1,
             "#276419"
            ]
           ],
           "sequential": [
            [
             0,
             "#0d0887"
            ],
            [
             0.1111111111111111,
             "#46039f"
            ],
            [
             0.2222222222222222,
             "#7201a8"
            ],
            [
             0.3333333333333333,
             "#9c179e"
            ],
            [
             0.4444444444444444,
             "#bd3786"
            ],
            [
             0.5555555555555556,
             "#d8576b"
            ],
            [
             0.6666666666666666,
             "#ed7953"
            ],
            [
             0.7777777777777778,
             "#fb9f3a"
            ],
            [
             0.8888888888888888,
             "#fdca26"
            ],
            [
             1,
             "#f0f921"
            ]
           ],
           "sequentialminus": [
            [
             0,
             "#0d0887"
            ],
            [
             0.1111111111111111,
             "#46039f"
            ],
            [
             0.2222222222222222,
             "#7201a8"
            ],
            [
             0.3333333333333333,
             "#9c179e"
            ],
            [
             0.4444444444444444,
             "#bd3786"
            ],
            [
             0.5555555555555556,
             "#d8576b"
            ],
            [
             0.6666666666666666,
             "#ed7953"
            ],
            [
             0.7777777777777778,
             "#fb9f3a"
            ],
            [
             0.8888888888888888,
             "#fdca26"
            ],
            [
             1,
             "#f0f921"
            ]
           ]
          },
          "colorway": [
           "#636efa",
           "#EF553B",
           "#00cc96",
           "#ab63fa",
           "#FFA15A",
           "#19d3f3",
           "#FF6692",
           "#B6E880",
           "#FF97FF",
           "#FECB52"
          ],
          "font": {
           "color": "#2a3f5f"
          },
          "geo": {
           "bgcolor": "white",
           "lakecolor": "white",
           "landcolor": "#E5ECF6",
           "showlakes": true,
           "showland": true,
           "subunitcolor": "white"
          },
          "hoverlabel": {
           "align": "left"
          },
          "hovermode": "closest",
          "mapbox": {
           "style": "light"
          },
          "paper_bgcolor": "white",
          "plot_bgcolor": "#E5ECF6",
          "polar": {
           "angularaxis": {
            "gridcolor": "white",
            "linecolor": "white",
            "ticks": ""
           },
           "bgcolor": "#E5ECF6",
           "radialaxis": {
            "gridcolor": "white",
            "linecolor": "white",
            "ticks": ""
           }
          },
          "scene": {
           "xaxis": {
            "backgroundcolor": "#E5ECF6",
            "gridcolor": "white",
            "gridwidth": 2,
            "linecolor": "white",
            "showbackground": true,
            "ticks": "",
            "zerolinecolor": "white"
           },
           "yaxis": {
            "backgroundcolor": "#E5ECF6",
            "gridcolor": "white",
            "gridwidth": 2,
            "linecolor": "white",
            "showbackground": true,
            "ticks": "",
            "zerolinecolor": "white"
           },
           "zaxis": {
            "backgroundcolor": "#E5ECF6",
            "gridcolor": "white",
            "gridwidth": 2,
            "linecolor": "white",
            "showbackground": true,
            "ticks": "",
            "zerolinecolor": "white"
           }
          },
          "shapedefaults": {
           "line": {
            "color": "#2a3f5f"
           }
          },
          "ternary": {
           "aaxis": {
            "gridcolor": "white",
            "linecolor": "white",
            "ticks": ""
           },
           "baxis": {
            "gridcolor": "white",
            "linecolor": "white",
            "ticks": ""
           },
           "bgcolor": "#E5ECF6",
           "caxis": {
            "gridcolor": "white",
            "linecolor": "white",
            "ticks": ""
           }
          },
          "title": {
           "x": 0.05
          },
          "xaxis": {
           "automargin": true,
           "gridcolor": "white",
           "linecolor": "white",
           "ticks": "",
           "title": {
            "standoff": 15
           },
           "zerolinecolor": "white",
           "zerolinewidth": 2
          },
          "yaxis": {
           "automargin": true,
           "gridcolor": "white",
           "linecolor": "white",
           "ticks": "",
           "title": {
            "standoff": 15
           },
           "zerolinecolor": "white",
           "zerolinewidth": 2
          }
         }
        },
        "title": {
         "text": "Neurologist Visits by Hour"
        },
        "xaxis": {
         "anchor": "y",
         "autorange": true,
         "domain": [
          0,
          1
         ],
         "range": [
          0,
          23
         ],
         "title": {
          "text": "Hour of the Day"
         },
         "type": "linear"
        },
        "yaxis": {
         "anchor": "x",
         "autorange": true,
         "domain": [
          0,
          1
         ],
         "range": [
          137.33333333333334,
          190.66666666666666
         ],
         "title": {
          "text": "Number of Visits"
         },
         "type": "linear"
        }
       }
      },
      "image/png": "[encoded data removed]",
      "text/html": [
       "<div>                            <div id=\"ae6af2f3-2fa5-4534-aa8b-8486c59eed8d\" class=\"plotly-graph-div\" style=\"height:525px; width:100%;\"></div>            <script type=\"text/javascript\">                require([\"plotly\"], function(Plotly) {                    window.PLOTLYENV=window.PLOTLYENV || {};                                    if (document.getElementById(\"ae6af2f3-2fa5-4534-aa8b-8486c59eed8d\")) {                    Plotly.newPlot(                        \"ae6af2f3-2fa5-4534-aa8b-8486c59eed8d\",                        [{\"hovertemplate\":\"Hour of the Day=%{x}\\u003cbr\\u003eNumber of Visits=%{y}\\u003cextra\\u003e\\u003c\\u002fextra\\u003e\",\"legendgroup\":\"\",\"line\":{\"color\":\"#636efa\",\"dash\":\"solid\"},\"marker\":{\"symbol\":\"circle\"},\"mode\":\"lines\",\"name\":\"\",\"orientation\":\"v\",\"showlegend\":false,\"x\":[0.0,1.0,2.0,3.0,4.0,5.0,6.0,7.0,8.0,9.0,10.0,11.0,12.0,13.0,14.0,15.0,16.0,17.0,18.0,19.0,20.0,21.0,22.0,23.0],\"xaxis\":\"x\",\"y\":[159,167,172,188,159,186,161,172,171,156,161,167,161,165,187,185,171,140,176,180,171,187,160,182],\"yaxis\":\"y\",\"type\":\"scatter\"}],                        {\"template\":{\"data\":{\"histogram2dcontour\":[{\"type\":\"histogram2dcontour\",\"colorbar\":{\"outlinewidth\":0,\"ticks\":\"\"},\"colorscale\":[[0.0,\"#0d0887\"],[0.1111111111111111,\"#46039f\"],[0.2222222222222222,\"#7201a8\"],[0.3333333333333333,\"#9c179e\"],[0.4444444444444444,\"#bd3786\"],[0.5555555555555556,\"#d8576b\"],[0.6666666666666666,\"#ed7953\"],[0.7777777777777778,\"#fb9f3a\"],[0.8888888888888888,\"#fdca26\"],[1.0,\"#f0f921\"]]}],\"choropleth\":[{\"type\":\"choropleth\",\"colorbar\":{\"outlinewidth\":0,\"ticks\":\"\"}}],\"histogram2d\":[{\"type\":\"histogram2d\",\"colorbar\":{\"outlinewidth\":0,\"ticks\":\"\"},\"colorscale\":[[0.0,\"#0d0887\"],[0.1111111111111111,\"#46039f\"],[0.2222222222222222,\"#7201a8\"],[0.3333333333333333,\"#9c179e\"],[0.4444444444444444,\"#bd3786\"],[0.5555555555555556,\"#d8576b\"],[0.6666666666666666,\"#ed7953\"],[0.7777777777777778,\"#fb9f3a\"],[0.8888888888888888,\"#fdca26\"],[1.0,\"#f0f921\"]]}],\"heatmap\":[{\"type\":\"heatmap\",\"colorbar\":{\"outlinewidth\":0,\"ticks\":\"\"},\"colorscale\":[[0.0,\"#0d0887\"],[0.1111111111111111,\"#46039f\"],[0.2222222222222222,\"#7201a8\"],[0.3333333333333333,\"#9c179e\"],[0.4444444444444444,\"#bd3786\"],[0.5555555555555556,\"#d8576b\"],[0.6666666666666666,\"#ed7953\"],[0.7777777777777778,\"#fb9f3a\"],[0.8888888888888888,\"#fdca26\"],[1.0,\"#f0f921\"]]}],\"heatmapgl\":[{\"type\":\"heatmapgl\",\"colorbar\":{\"outlinewidth\":0,\"ticks\":\"\"},\"colorscale\":[[0.0,\"#0d0887\"],[0.1111111111111111,\"#46039f\"],[0.2222222222222222,\"#7201a8\"],[0.3333333333333333,\"#9c179e\"],[0.4444444444444444,\"#bd3786\"],[0.5555555555555556,\"#d8576b\"],[0.6666666666666666,\"#ed7953\"],[0.7777777777777778,\"#fb9f3a\"],[0.8888888888888888,\"#fdca26\"],[1.0,\"#f0f921\"]]}],\"contourcarpet\":[{\"type\":\"contourcarpet\",\"colorbar\":{\"outlinewidth\":0,\"ticks\":\"\"}}],\"contour\":[{\"type\":\"contour\",\"colorbar\":{\"outlinewidth\":0,\"ticks\":\"\"},\"colorscale\":[[0.0,\"#0d0887\"],[0.1111111111111111,\"#46039f\"],[0.2222222222222222,\"#7201a8\"],[0.3333333333333333,\"#9c179e\"],[0.4444444444444444,\"#bd3786\"],[0.5555555555555556,\"#d8576b\"],[0.6666666666666666,\"#ed7953\"],[0.7777777777777778,\"#fb9f3a\"],[0.8888888888888888,\"#fdca26\"],[1.0,\"#f0f921\"]]}],\"surface\":[{\"type\":\"surface\",\"colorbar\":{\"outlinewidth\":0,\"ticks\":\"\"},\"colorscale\":[[0.0,\"#0d0887\"],[0.1111111111111111,\"#46039f\"],[0.2222222222222222,\"#7201a8\"],[0.3333333333333333,\"#9c179e\"],[0.4444444444444444,\"#bd3786\"],[0.5555555555555556,\"#d8576b\"],[0.6666666666666666,\"#ed7953\"],[0.7777777777777778,\"#fb9f3a\"],[0.8888888888888888,\"#fdca26\"],[1.0,\"#f0f921\"]]}],\"mesh3d\":[{\"type\":\"mesh3d\",\"colorbar\":{\"outlinewidth\":0,\"ticks\":\"\"}}],\"scatter\":[{\"fillpattern\":{\"fillmode\":\"overlay\",\"size\":10,\"solidity\":0.2},\"type\":\"scatter\"}],\"parcoords\":[{\"type\":\"parcoords\",\"line\":{\"colorbar\":{\"outlinewidth\":0,\"ticks\":\"\"}}}],\"scatterpolargl\":[{\"type\":\"scatterpolargl\",\"marker\":{\"colorbar\":{\"outlinewidth\":0,\"ticks\":\"\"}}}],\"bar\":[{\"error_x\":{\"color\":\"#2a3f5f\"},\"error_y\":{\"color\":\"#2a3f5f\"},\"marker\":{\"line\":{\"color\":\"#E5ECF6\",\"width\":0.5},\"pattern\":{\"fillmode\":\"overlay\",\"size\":10,\"solidity\":0.2}},\"type\":\"bar\"}],\"scattergeo\":[{\"type\":\"scattergeo\",\"marker\":{\"colorbar\":{\"outlinewidth\":0,\"ticks\":\"\"}}}],\"scatterpolar\":[{\"type\":\"scatterpolar\",\"marker\":{\"colorbar\":{\"outlinewidth\":0,\"ticks\":\"\"}}}],\"histogram\":[{\"marker\":{\"pattern\":{\"fillmode\":\"overlay\",\"size\":10,\"solidity\":0.2}},\"type\":\"histogram\"}],\"scattergl\":[{\"type\":\"scattergl\",\"marker\":{\"colorbar\":{\"outlinewidth\":0,\"ticks\":\"\"}}}],\"scatter3d\":[{\"type\":\"scatter3d\",\"line\":{\"colorbar\":{\"outlinewidth\":0,\"ticks\":\"\"}},\"marker\":{\"colorbar\":{\"outlinewidth\":0,\"ticks\":\"\"}}}],\"scattermapbox\":[{\"type\":\"scattermapbox\",\"marker\":{\"colorbar\":{\"outlinewidth\":0,\"ticks\":\"\"}}}],\"scatterternary\":[{\"type\":\"scatterternary\",\"marker\":{\"colorbar\":{\"outlinewidth\":0,\"ticks\":\"\"}}}],\"scattercarpet\":[{\"type\":\"scattercarpet\",\"marker\":{\"colorbar\":{\"outlinewidth\":0,\"ticks\":\"\"}}}],\"carpet\":[{\"aaxis\":{\"endlinecolor\":\"#2a3f5f\",\"gridcolor\":\"white\",\"linecolor\":\"white\",\"minorgridcolor\":\"white\",\"startlinecolor\":\"#2a3f5f\"},\"baxis\":{\"endlinecolor\":\"#2a3f5f\",\"gridcolor\":\"white\",\"linecolor\":\"white\",\"minorgridcolor\":\"white\",\"startlinecolor\":\"#2a3f5f\"},\"type\":\"carpet\"}],\"table\":[{\"cells\":{\"fill\":{\"color\":\"#EBF0F8\"},\"line\":{\"color\":\"white\"}},\"header\":{\"fill\":{\"color\":\"#C8D4E3\"},\"line\":{\"color\":\"white\"}},\"type\":\"table\"}],\"barpolar\":[{\"marker\":{\"line\":{\"color\":\"#E5ECF6\",\"width\":0.5},\"pattern\":{\"fillmode\":\"overlay\",\"size\":10,\"solidity\":0.2}},\"type\":\"barpolar\"}],\"pie\":[{\"automargin\":true,\"type\":\"pie\"}]},\"layout\":{\"autotypenumbers\":\"strict\",\"colorway\":[\"#636efa\",\"#EF553B\",\"#00cc96\",\"#ab63fa\",\"#FFA15A\",\"#19d3f3\",\"#FF6692\",\"#B6E880\",\"#FF97FF\",\"#FECB52\"],\"font\":{\"color\":\"#2a3f5f\"},\"hovermode\":\"closest\",\"hoverlabel\":{\"align\":\"left\"},\"paper_bgcolor\":\"white\",\"plot_bgcolor\":\"#E5ECF6\",\"polar\":{\"bgcolor\":\"#E5ECF6\",\"angularaxis\":{\"gridcolor\":\"white\",\"linecolor\":\"white\",\"ticks\":\"\"},\"radialaxis\":{\"gridcolor\":\"white\",\"linecolor\":\"white\",\"ticks\":\"\"}},\"ternary\":{\"bgcolor\":\"#E5ECF6\",\"aaxis\":{\"gridcolor\":\"white\",\"linecolor\":\"white\",\"ticks\":\"\"},\"baxis\":{\"gridcolor\":\"white\",\"linecolor\":\"white\",\"ticks\":\"\"},\"caxis\":{\"gridcolor\":\"white\",\"linecolor\":\"white\",\"ticks\":\"\"}},\"coloraxis\":{\"colorbar\":{\"outlinewidth\":0,\"ticks\":\"\"}},\"colorscale\":{\"sequential\":[[0.0,\"#0d0887\"],[0.1111111111111111,\"#46039f\"],[0.2222222222222222,\"#7201a8\"],[0.3333333333333333,\"#9c179e\"],[0.4444444444444444,\"#bd3786\"],[0.5555555555555556,\"#d8576b\"],[0.6666666666666666,\"#ed7953\"],[0.7777777777777778,\"#fb9f3a\"],[0.8888888888888888,\"#fdca26\"],[1.0,\"#f0f921\"]],\"sequentialminus\":[[0.0,\"#0d0887\"],[0.1111111111111111,\"#46039f\"],[0.2222222222222222,\"#7201a8\"],[0.3333333333333333,\"#9c179e\"],[0.4444444444444444,\"#bd3786\"],[0.5555555555555556,\"#d8576b\"],[0.6666666666666666,\"#ed7953\"],[0.7777777777777778,\"#fb9f3a\"],[0.8888888888888888,\"#fdca26\"],[1.0,\"#f0f921\"]],\"diverging\":[[0,\"#8e0152\"],[0.1,\"#c51b7d\"],[0.2,\"#de77ae\"],[0.3,\"#f1b6da\"],[0.4,\"#fde0ef\"],[0.5,\"#f7f7f7\"],[0.6,\"#e6f5d0\"],[0.7,\"#b8e186\"],[0.8,\"#7fbc41\"],[0.9,\"#4d9221\"],[1,\"#276419\"]]},\"xaxis\":{\"gridcolor\":\"white\",\"linecolor\":\"white\",\"ticks\":\"\",\"title\":{\"standoff\":15},\"zerolinecolor\":\"white\",\"automargin\":true,\"zerolinewidth\":2},\"yaxis\":{\"gridcolor\":\"white\",\"linecolor\":\"white\",\"ticks\":\"\",\"title\":{\"standoff\":15},\"zerolinecolor\":\"white\",\"automargin\":true,\"zerolinewidth\":2},\"scene\":{\"xaxis\":{\"backgroundcolor\":\"#E5ECF6\",\"gridcolor\":\"white\",\"linecolor\":\"white\",\"showbackground\":true,\"ticks\":\"\",\"zerolinecolor\":\"white\",\"gridwidth\":2},\"yaxis\":{\"backgroundcolor\":\"#E5ECF6\",\"gridcolor\":\"white\",\"linecolor\":\"white\",\"showbackground\":true,\"ticks\":\"\",\"zerolinecolor\":\"white\",\"gridwidth\":2},\"zaxis\":{\"backgroundcolor\":\"#E5ECF6\",\"gridcolor\":\"white\",\"linecolor\":\"white\",\"showbackground\":true,\"ticks\":\"\",\"zerolinecolor\":\"white\",\"gridwidth\":2}},\"shapedefaults\":{\"line\":{\"color\":\"#2a3f5f\"}},\"annotationdefaults\":{\"arrowcolor\":\"#2a3f5f\",\"arrowhead\":0,\"arrowwidth\":1},\"geo\":{\"bgcolor\":\"white\",\"landcolor\":\"#E5ECF6\",\"subunitcolor\":\"white\",\"showland\":true,\"showlakes\":true,\"lakecolor\":\"white\"},\"title\":{\"x\":0.05},\"mapbox\":{\"style\":\"light\"}}},\"xaxis\":{\"anchor\":\"y\",\"domain\":[0.0,1.0],\"title\":{\"text\":\"Hour of the Day\"}},\"yaxis\":{\"anchor\":\"x\",\"domain\":[0.0,1.0],\"title\":{\"text\":\"Number of Visits\"}},\"legend\":{\"tracegroupgap\":0},\"title\":{\"text\":\"Neurologist Visits by Hour\"}},                        {\"responsive\": true}                    ).then(function(){\n",
       "                            \n",
       "var gd = document.getElementById('ae6af2f3-2fa5-4534-aa8b-8486c59eed8d');\n",
       "var x = new MutationObserver(function (mutations, observer) {{\n",
       "        var display = window.getComputedStyle(gd).display;\n",
       "        if (!display || display === 'none') {{\n",
       "            console.log([gd, 'removed!']);\n",
       "            Plotly.purge(gd);\n",
       "            observer.disconnect();\n",
       "        }}\n",
       "}});\n",
       "\n",
       "// Listen for the removal of the full notebook cells\n",
       "var notebookContainer = gd.closest('#notebook-container');\n",
       "if (notebookContainer) {{\n",
       "    x.observe(notebookContainer, {childList: true});\n",
       "}}\n",
       "\n",
       "// Listen for the clearing of the current output cell\n",
       "var outputEl = gd.closest('.output');\n",
       "if (outputEl) {{\n",
       "    x.observe(outputEl, {childList: true});\n",
       "}}\n",
       "\n",
       "                        })                };                });            </script>        </div>"
      ]
     },
     "metadata": {},
     "output_type": "display_data"
    }
   ],
   "source": [
    "import plotly.express as px\n",
    "\n",
    "\n",
    "df['Speech Pathologist Visit'] = pd.to_datetime(df['Speech Pathologist Visit'])\n",
    "\n",
    "# Extract the time (hour) from the datetime\n",
    "df['Visit Hour'] = df['Speech Pathologist Visit'].dt.hour\n",
    "\n",
    "# Aggregate counts by hour\n",
    "hourly_visits = df['Visit Hour'].value_counts().sort_index()\n",
    "\n",
    "# Create a line chart using Plotly Express\n",
    "fig = px.line(x=hourly_visits.index, y=hourly_visits.values, labels={'x': 'Hour of the Day', 'y': 'Number of Visits'}, title='Neurologist Visits by Hour')\n",
    "\n",
    "# Show the figure\n",
    "fig.show()"
   ]
  },
  {
   "cell_type": "code",
   "execution_count": null,
   "id": "47e54fc0-2f7a-4677-8fa9-b70d096531a0",
   "metadata": {},
   "outputs": [],
   "source": [
    "import plotly.express as px\n",
    "\n",
    "\n",
    "df['Neurologist Visit'] = pd.to_datetime(df['Neurologist Visit'])\n",
    "\n",
    "# Extract the time (hour) from the datetime\n",
    "df['Visit Hour'] = df['Neurologist Visit'].dt.hour\n",
    "\n",
    "# Aggregate counts by hour\n",
    "hourly_visits = df['Visit Hour'].value_counts().sort_index()\n",
    "\n",
    "# Create a line chart using Plotly Express\n",
    "fig = px.line(x=hourly_visits.index, y=hourly_visits.values, labels={'x': 'Hour of the Day', 'y': 'Number of Visits'}, title='Neurologist Visits by Hour')\n",
    "\n",
    "# Show the figure\n",
    "fig.show()"
   ]
  },
  {
   "cell_type": "markdown",
   "id": "27300360-2cdc-4f38-b7ad-5161f1d2e4eb",
   "metadata": {},
   "source": [
    "Best stroke practices in canada\n",
    "1. All patients presenting to an emergency department with suspected acute stroke should be immediately assessed \n",
    "and undergo investigations without delay to establish a diagnosis and determine eligibility \n",
    "    for thrombolysis and/or endovascular thrombectomy (EVT) [Strong recommendation; High quality of evidence]. \n",
    "\n",
    "\n",
    "2. Patients with suspected acute stroke should have a rapid neurological examination to determine focal neurological deficits\n",
    "using a validated scale such as FAST (Face, Arm, Speech, Time) [Strong recommendation; Moderate quality of evidence]; \n",
    "and to assess for stroke severity using a validated screen [Strong recommendation; High quality of evidence].  -- all have visited\n",
    "\n",
    "\n",
    "3. All patients with suspected acute stroke should undergo brain and \n",
    "vascular imaging computerized tomography (CT) or magnetic resonance imaging (MRI) [Strong recommendation; High quality of evidence].\n",
    "\n",
    "\n",
    "4. All patients with suspected acute ischemic stroke who arrive at hospital within 6 hours \n",
    "who are potentially eligible for intravenous thrombolysis and/or EVT should undergo immediate non-contrast CT (NCCT) \n",
    "combined with CT angiography (CTA) of the head and neck, performed and interpreted without delay [Strong recommendation; High quality of evidence]. \n",
    "Refer to eligibility criteria in Boxes 4A, 4B, 5A, 5B, and 5C\n",
    "\n",
    "\n",
    "5. All patients with suspected acute stroke should have their blood glucose concentration \n",
    "checked on arrival to the emergency department (or review glucose provided by EMS for any immediate management required)\n",
    "[Strong recommendation; Moderate quality of evidence]. Refer to Table 2A Recommended Laboratory Investigations \n",
    "for Patients with Acute Stroke or Transient Ischemic Attack for additional information.\n",
    "Refer to Section 3 Emergency Medical Services Management of Acute Stroke for additional information on EMS management.\n"
   ]
  },
  {
   "cell_type": "code",
   "execution_count": 2,
   "id": "2a7d062c-59d3-4d1e-ab23-9d111a402db5",
   "metadata": {},
   "outputs": [
    {
     "data": {
      "text/plain": [
       "Index(['Patient Id', 'Age', 'Gender', 'Comorbidities', 'Emergency Dept Time',\n",
       "       'Admission Time', 'Discharge Time', 'CT Scan Time', 'TPA Time',\n",
       "       'ICU Arrival Time', 'ICU Checkout Time', 'Neurology Ward Arrival Time',\n",
       "       'Occupational Therapist Visit', 'Speech Pathologist Visit',\n",
       "       'Physiotherapist Visit', 'Dietitian Visit', 'Social Worker Visit',\n",
       "       'Cardiologist Visit', 'Neurologist Visit'],\n",
       "      dtype='object')"
      ]
     },
     "execution_count": 2,
     "metadata": {},
     "output_type": "execute_result"
    }
   ],
   "source": [
    "df.columns"
   ]
  },
  {
   "cell_type": "code",
   "execution_count": 5,
   "id": "b26a0d9b-707e-445b-8c4f-9390e5844947",
   "metadata": {},
   "outputs": [
    {
     "data": {
      "text/plain": [
       "0"
      ]
     },
     "execution_count": 5,
     "metadata": {},
     "output_type": "execute_result"
    }
   ],
   "source": [
    "df['Neurologist Visit'].isna().sum()"
   ]
  },
  {
   "cell_type": "code",
   "execution_count": 10,
   "id": "63bfdbb3-e20a-4aa9-979d-449fd780f59b",
   "metadata": {},
   "outputs": [
    {
     "data": {
      "text/plain": [
       "<Axes: xlabel='Age', ylabel='Count'>"
      ]
     },
     "execution_count": 10,
     "metadata": {},
     "output_type": "execute_result"
    },
    {
     "data": {
      "image/png": "[encoded data removed]",
      "text/plain": [
       "<Figure size 640x480 with 1 Axes>"
      ]
     },
     "metadata": {},
     "output_type": "display_data"
    }
   ],
   "source": [
    "import seaborn as sns\n",
    "sns.histplot(df['Age'])"
   ]
  },
  {
   "cell_type": "code",
   "execution_count": 5,
   "id": "f2ba46fb-91d0-45c9-aeef-838a28b23b4b",
   "metadata": {},
   "outputs": [],
   "source": [
    "df['Neurologist Visit'] = pd.to_datetime(df['Neurologist Visit'])\n",
    "df['neuro_hour'] = df['Neurologist Visit'].dt.hour\n"
   ]
  },
  {
   "cell_type": "code",
   "execution_count": 26,
   "id": "be85dba7-51a4-42e6-9696-81f8c67db415",
   "metadata": {},
   "outputs": [],
   "source": [
    "# Ensure the times are in datetime format\n",
    "df['ICU Arrival Time'] = pd.to_datetime(df['ICU Arrival Time'])\n",
    "df['ICU Checkout Time'] = pd.to_datetime(df['ICU Checkout Time'])\n",
    "\n",
    "# Calculate the difference\n",
    "df['ICU_Stay_Duration'] = df['ICU Checkout Time'] - df['ICU Arrival Time']\n",
    "df['ICU_Stay_Duration'] = (df['ICU Checkout Time'] - df['ICU Arrival Time']).dt.total_seconds() / 3600\n"
   ]
  },
  {
   "cell_type": "code",
   "execution_count": 27,
   "id": "e63f8b4e-839b-4c66-9e1f-7467fb8add74",
   "metadata": {},
   "outputs": [
    {
     "data": {
      "text/plain": [
       "123.82076301745276"
      ]
     },
     "execution_count": 27,
     "metadata": {},
     "output_type": "execute_result"
    }
   ],
   "source": [
    "df['ICU_Stay_Duration'].mean()"
   ]
  },
  {
   "cell_type": "code",
   "execution_count": 35,
   "id": "dfa08289-635a-4362-a0dd-86de93a6e911",
   "metadata": {},
   "outputs": [
    {
     "data": {
      "text/plain": [
       "0              NaN\n",
       "1        31.500000\n",
       "2        37.400000\n",
       "3              NaN\n",
       "4              NaN\n",
       "           ...    \n",
       "5142     26.550000\n",
       "5143           NaN\n",
       "5144     61.933333\n",
       "5145     33.416667\n",
       "5146    423.250000\n",
       "Name: ICU_Stay_Duration, Length: 5147, dtype: float64"
      ]
     },
     "execution_count": 35,
     "metadata": {},
     "output_type": "execute_result"
    }
   ],
   "source": [
    "df['ICU_Stay_Duration']"
   ]
  },
  {
   "cell_type": "code",
   "execution_count": 36,
   "id": "0f0d2761-2ff5-4c8d-825e-ca825c65c140",
   "metadata": {},
   "outputs": [
    {
     "name": "stdout",
     "output_type": "stream",
     "text": [
      "Age\n",
      "27      28.983333\n",
      "28            NaN\n",
      "29     210.383333\n",
      "30     208.333333\n",
      "32      60.016667\n",
      "         ...     \n",
      "94     188.586111\n",
      "95      92.403333\n",
      "96    1407.283333\n",
      "97      13.800000\n",
      "98     107.775000\n",
      "Name: ICU_Stay_Duration, Length: 71, dtype: float64\n"
     ]
    }
   ],
   "source": [
    "mean_icu_duration_by_age = df.groupby('Age')['ICU_Stay_Duration'].mean()\n",
    "print(mean_icu_duration_by_age)"
   ]
  },
  {
   "cell_type": "code",
   "execution_count": 37,
   "id": "88a788ee-4f3a-4740-9577-a8173ea70e89",
   "metadata": {},
   "outputs": [
    {
     "data": {
      "text/plain": [
       "Age\n",
       "27      28.983333\n",
       "28            NaN\n",
       "29     210.383333\n",
       "30     208.333333\n",
       "32      60.016667\n",
       "         ...     \n",
       "94     188.586111\n",
       "95      92.403333\n",
       "96    1407.283333\n",
       "97      13.800000\n",
       "98     107.775000\n",
       "Name: ICU_Stay_Duration, Length: 71, dtype: float64"
      ]
     },
     "execution_count": 37,
     "metadata": {},
     "output_type": "execute_result"
    }
   ],
   "source": [
    "mean_icu_duration_by_age"
   ]
  },
  {
   "cell_type": "code",
   "execution_count": 38,
   "id": "655b122e-0fcd-4069-9094-9c72880bcf3c",
   "metadata": {},
   "outputs": [
    {
     "data": {
      "image/png": "[encoded data removed]",
      "text/plain": [
       "<Figure size 1000x600 with 1 Axes>"
      ]
     },
     "metadata": {},
     "output_type": "display_data"
    }
   ],
   "source": [
    "mean_icu_duration_by_age_df = mean_icu_duration_by_age.reset_index(name='Mean_ICU_Stay_Duration')\n",
    "\n",
    "import matplotlib.pyplot as plt\n",
    "\n",
    "# Plotting the bar chart\n",
    "mean_icu_duration_by_age_df.plot(kind='bar', x='Age', y='Mean_ICU_Stay_Duration', color='skyblue', figsize=(10, 6))\n",
    "\n",
    "# Adding labels and title\n",
    "plt.xlabel('Age')\n",
    "plt.ylabel('Mean ICU Stay Duration')\n",
    "plt.title('Mean ICU Stay Duration by Age')\n",
    "plt.xticks(rotation=45)  # Rotate x-axis labels for better readability\n",
    "\n",
    "# Display the plot\n",
    "plt.tight_layout()\n",
    "plt.show()\n"
   ]
  },
  {
   "cell_type": "code",
   "execution_count": 30,
   "id": "f4cf7b51-4ef1-4119-8f43-3b54e699cd99",
   "metadata": {},
   "outputs": [
    {
     "data": {
      "text/html": [
       "<div>\n",
       "<style scoped>\n",
       "    .dataframe tbody tr th:only-of-type {\n",
       "        vertical-align: middle;\n",
       "    }\n",
       "\n",
       "    .dataframe tbody tr th {\n",
       "        vertical-align: top;\n",
       "    }\n",
       "\n",
       "    .dataframe thead th {\n",
       "        text-align: right;\n",
       "    }\n",
       "</style>\n",
       "<table border=\"1\" class=\"dataframe\">\n",
       "  <thead>\n",
       "    <tr style=\"text-align: right;\">\n",
       "      <th></th>\n",
       "      <th>Age</th>\n",
       "      <th>Mean_ICU_Stay_Duration</th>\n",
       "    </tr>\n",
       "  </thead>\n",
       "  <tbody>\n",
       "    <tr>\n",
       "      <th>0</th>\n",
       "      <td>27</td>\n",
       "      <td>1 days 04:59:00</td>\n",
       "    </tr>\n",
       "    <tr>\n",
       "      <th>1</th>\n",
       "      <td>28</td>\n",
       "      <td>NaT</td>\n",
       "    </tr>\n",
       "    <tr>\n",
       "      <th>2</th>\n",
       "      <td>29</td>\n",
       "      <td>8 days 18:23:00</td>\n",
       "    </tr>\n",
       "    <tr>\n",
       "      <th>3</th>\n",
       "      <td>30</td>\n",
       "      <td>8 days 16:20:00</td>\n",
       "    </tr>\n",
       "    <tr>\n",
       "      <th>4</th>\n",
       "      <td>32</td>\n",
       "      <td>2 days 12:01:00</td>\n",
       "    </tr>\n",
       "    <tr>\n",
       "      <th>...</th>\n",
       "      <td>...</td>\n",
       "      <td>...</td>\n",
       "    </tr>\n",
       "    <tr>\n",
       "      <th>66</th>\n",
       "      <td>94</td>\n",
       "      <td>7 days 20:35:10</td>\n",
       "    </tr>\n",
       "    <tr>\n",
       "      <th>67</th>\n",
       "      <td>95</td>\n",
       "      <td>3 days 20:24:12</td>\n",
       "    </tr>\n",
       "    <tr>\n",
       "      <th>68</th>\n",
       "      <td>96</td>\n",
       "      <td>58 days 15:17:00</td>\n",
       "    </tr>\n",
       "    <tr>\n",
       "      <th>69</th>\n",
       "      <td>97</td>\n",
       "      <td>0 days 13:48:00</td>\n",
       "    </tr>\n",
       "    <tr>\n",
       "      <th>70</th>\n",
       "      <td>98</td>\n",
       "      <td>4 days 11:46:30</td>\n",
       "    </tr>\n",
       "  </tbody>\n",
       "</table>\n",
       "<p>71 rows × 2 columns</p>\n",
       "</div>"
      ],
      "text/plain": [
       "    Age Mean_ICU_Stay_Duration\n",
       "0    27        1 days 04:59:00\n",
       "1    28                    NaT\n",
       "2    29        8 days 18:23:00\n",
       "3    30        8 days 16:20:00\n",
       "4    32        2 days 12:01:00\n",
       "..  ...                    ...\n",
       "66   94        7 days 20:35:10\n",
       "67   95        3 days 20:24:12\n",
       "68   96       58 days 15:17:00\n",
       "69   97        0 days 13:48:00\n",
       "70   98        4 days 11:46:30\n",
       "\n",
       "[71 rows x 2 columns]"
      ]
     },
     "execution_count": 30,
     "metadata": {},
     "output_type": "execute_result"
    }
   ],
   "source": [
    "mean_icu_duration_by_age_df"
   ]
  },
  {
   "cell_type": "code",
   "execution_count": 58,
   "id": "2b7f8a8d-fde1-4c01-bb64-ec077bd44f52",
   "metadata": {},
   "outputs": [
    {
     "data": {
      "application/vnd.jupyter.widget-view+json": {
       "model_id": "e63efbdd303049b4b75f5a2d924822b5",
       "version_major": 2,
       "version_minor": 0
      },
      "text/plain": [
       "interactive(children=(SelectMultiple(description='Select Plot:', index=(0,), options=('Gender Distribution', '…"
      ]
     },
     "execution_count": 58,
     "metadata": {},
     "output_type": "execute_result"
    }
   ],
   "source": [
    "import pandas as pd\n",
    "import plotly.express as px\n",
    "import ipywidgets as widgets\n",
    "from IPython.display import display\n",
    "\n",
    "def plot_gender_distribution():\n",
    "    fig = px.histogram(df, x='Gender', title='Gender Distribution of Stroke Patients')\n",
    "    fig.update_layout(title_text=\"Patient Demographics\")\n",
    "    fig.show()\n",
    "\n",
    "def plot_age_distribution():\n",
    "    fig = px.histogram(df, x='Age', title='Age Distribution of Stroke Patients')\n",
    "    fig.update_layout(title_text=\"Patient Demographics\")\n",
    "    fig.show()\n",
    "\n",
    "def plot_comorbidities_distribution():\n",
    "    fig = px.bar(df['Comorbidities'].value_counts(), title='Comorbidities Distribution')\n",
    "    fig.update_layout(title_text=\"Patient Demographics\")\n",
    "    fig.show()\n",
    "\n",
    "def plot_gender_comorbidities():\n",
    "    fig = px.histogram(df, x='Gender', color='Comorbidities', title='Gender-wise Distribution of Patients with Comorbidities')\n",
    "    fig.update_layout(title_text=\"Patient Demographics\")\n",
    "    fig.show()\n",
    "\n",
    "# Create multi-select widget\n",
    "widget_multi_select = widgets.SelectMultiple(\n",
    "    options=['Gender Distribution', 'Age Distribution', 'Comorbidities Distribution'],\n",
    "    value=['Gender Distribution'],\n",
    "    description='Select Plot:'\n",
    ")\n",
    "\n",
    "# Define function to update plot based on multi-select options\n",
    "def update_plot(options):\n",
    "    if len(options) == 1:\n",
    "        if 'Age Distribution' in options:\n",
    "            plot_age_distribution()\n",
    "        if 'Comorbidities Distribution' in options:\n",
    "            plot_comorbidities_distribution()\n",
    "        if 'Gender Distribution' in options:\n",
    "            plot_gender_distribution()\n",
    "    else:\n",
    "        if 'Gender Distribution' in options and 'Comorbidities Distribution' in options:\n",
    "            plot_gender_comorbidities()\n",
    "\n",
    "# Display the widget and plot\n",
    "widgets.interactive(update_plot, options=widget_multi_select)\n"
   ]
  }
 ],
 "metadata": {
  "kernelspec": {
   "display_name": "Python 3 (ipykernel)",
   "language": "python",
   "name": "python3"
  },
  "language_info": {
   "codemirror_mode": {
    "name": "ipython",
    "version": 3
   },
   "file_extension": ".py",
   "mimetype": "text/x-python",
   "name": "python",
   "nbconvert_exporter": "python",
   "pygments_lexer": "ipython3",
   "version": "3.12.1"
  }
 },
 "nbformat": 4,
 "nbformat_minor": 5
}
