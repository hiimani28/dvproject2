{
 "cells": [
  {
   "cell_type": "code",
   "execution_count": 1,
   "id": "7abe0c86-cafc-4e42-b807-deef29c805f0",
   "metadata": {},
   "outputs": [],
   "source": [
    "import pandas as pd\n",
    "df = pd.read_csv('stroke.csv')\n",
    "df= df[df['Comorbidities']==False]\n",
    "\n",
    "df['TPA Time'] = pd.to_datetime(df['TPA Time'])\n",
    "df['Emergency Dept Time'] = pd.to_datetime(df['Emergency Dept Time'])\n",
    "df['TPA_Done'] = df['TPA Time'].notna().astype(int)\n",
    "df['TimeForTPA'] = (df['TPA Time'] - df['Emergency Dept Time']).dt.total_seconds() / 60"
   ]
  },
  {
   "cell_type": "code",
   "execution_count": 2,
   "id": "1ded6b52-c60b-4685-89ec-ecc5d39c8b6a",
   "metadata": {},
   "outputs": [],
   "source": [
    "df['ICU Checkout Time'] = pd.to_datetime(df['ICU Checkout Time'])\n",
    "df['ICU Arrival Time'] = pd.to_datetime(df['ICU Arrival Time'])\n",
    "df['ICUStay(Days)'] = (df['ICU Checkout Time'] - df['ICU Arrival Time']).dt.total_seconds() / (60 * 60 * 24)\n",
    "df['ICUStay_Flag'] = df['ICU Arrival Time'].notna().astype(int)\n",
    "df['Admission Time'] = pd.to_datetime(df['ICU Checkout Time'])\n",
    "df['ICU Arrival Time'] = pd.to_datetime(df['ICU Arrival Time'])\n",
    "df['ICUStay(Days)'] = (df['ICU Checkout Time'] - df['ICU Arrival Time']).dt.total_seconds() / (60 * 60 * 24)\n"
   ]
  },
  {
   "cell_type": "code",
   "execution_count": 3,
   "id": "f3be3999-cd01-4a05-b740-d4722f83fa7b",
   "metadata": {},
   "outputs": [
    {
     "data": {
      "text/plain": [
       "Age Group\n",
       "45-60    668\n",
       "60-70    662\n",
       "70-80    351\n",
       "0-45     252\n",
       "80+      178\n",
       "Name: count, dtype: int64"
      ]
     },
     "execution_count": 3,
     "metadata": {},
     "output_type": "execute_result"
    }
   ],
   "source": [
    "def categorize_age(age):\n",
    "    if age <= 45:\n",
    "        return '0-45'\n",
    "    elif 45 < age <= 60:\n",
    "        return '45-60'\n",
    "    elif 60 < age <=70:\n",
    "        return '60-70'\n",
    "    elif 70 < age <= 80:\n",
    "        return '70-80'\n",
    "    else:\n",
    "        return '80+'\n",
    "\n",
    "# Apply the function to create a new column 'Age Group'\n",
    "df['Age Group'] = df['Age'].apply(categorize_age)\n",
    "df['Age Group'].value_counts()\n"
   ]
  },
  {
   "cell_type": "code",
   "execution_count": null,
   "id": "a423209a-a416-4fb4-be67-f3aa25975371",
   "metadata": {},
   "outputs": [],
   "source": []
  },
  {
   "cell_type": "code",
   "execution_count": 4,
   "id": "c8061ca0-836b-40fc-b859-2080ccabeac1",
   "metadata": {},
   "outputs": [
    {
     "data": {
      "application/vnd.jupyter.widget-view+json": {
       "model_id": "b59c55d12b3640a9957ad7f733c95dd4",
       "version_major": 2,
       "version_minor": 0
      },
      "text/plain": [
       "interactive(children=(SelectMultiple(description='Age Groups', index=(0, 1, 2, 3, 4), options=('0-45', '45-60'…"
      ]
     },
     "metadata": {},
     "output_type": "display_data"
    }
   ],
   "source": [
    "import matplotlib.pyplot as plt\n",
    "import squarify\n",
    "import pandas as pd\n",
    "import ipywidgets as widgets\n",
    "from ipywidgets import interact\n",
    "\n",
    "\n",
    "age_groups = sorted(df['Age Group'].unique())\n",
    "color_mapping = {\n",
    "    (0, 0): '#1f77b4',  # Non-ICU & No TPA # blue\n",
    "    (0, 1): '#ff7f0e',  # Non-ICU & TPA - orange\n",
    "    (1, 0): '#2ca02c',  # ICU & No TPA green\n",
    "    (1, 1): '#d62728',  # ICU & TPA red\n",
    "}\n",
    "\n",
    "@interact\n",
    "def plot_treemap(selected_age_groups=widgets.SelectMultiple(options=age_groups, value=age_groups, description=\"Age Groups\")):\n",
    "    # Filter DataFrame based on selected age groups\n",
    "    filtered_df = df[df['Age Group'].isin(selected_age_groups)]\n",
    "    \n",
    "    # Prepare the data\n",
    "    icu_tpa = filtered_df.groupby(['ICUStay_Flag', 'TPA_Done']).size().reset_index(name='counts')\n",
    "    icu_tpa['label'] = icu_tpa.apply(lambda x: f\"{'ICU' if x['ICUStay_Flag'] == 1 else 'Non-ICU'} - {'TPA' if x['TPA_Done'] == 1 else 'No TPA'}\\n{x['counts']}\", axis=1)\n",
    "    sizes = icu_tpa['counts'].values\n",
    "    labels = icu_tpa['label'].values\n",
    "\n",
    "    # Assign colors based on the defined mapping\n",
    "    colors = [color_mapping[(row['ICUStay_Flag'], row['TPA_Done'])] for index, row in icu_tpa.iterrows()]\n",
    "\n",
    "    # Plot\n",
    "    plt.figure(figsize=(10, 8))\n",
    "    squarify.plot(sizes=sizes, label=labels, alpha=0.8, color=colors)\n",
    "    plt.axis('off')\n",
    "    plt.show()\n"
   ]
  },
  {
   "cell_type": "code",
   "execution_count": null,
   "id": "0497aa50",
   "metadata": {},
   "outputs": [],
   "source": []
  }
 ],
 "metadata": {
  "kernelspec": {
   "display_name": "Python 3 (ipykernel)",
   "language": "python",
   "name": "python3"
  },
  "language_info": {
   "codemirror_mode": {
    "name": "ipython",
    "version": 3
   },
   "file_extension": ".py",
   "mimetype": "text/x-python",
   "name": "python",
   "nbconvert_exporter": "python",
   "pygments_lexer": "ipython3",
   "version": "3.12.1"
  }
 },
 "nbformat": 4,
 "nbformat_minor": 5
}
